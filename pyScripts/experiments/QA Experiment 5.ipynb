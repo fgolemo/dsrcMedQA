{
 "metadata": {
  "name": "",
  "signature": "sha256:11d090ac5efd89d33a2c4dc5addafe172217bc32d159cb6ac863974b253a12c6"
 },
 "nbformat": 3,
 "nbformat_minor": 0,
 "worksheets": [
  {
   "cells": [
    {
     "cell_type": "code",
     "collapsed": false,
     "input": [
      "import numpy as np\n",
      "import igraph as ig\n",
      "import graph_qa as qa\n",
      "import cPickle as pickle\n",
      "import copy"
     ],
     "language": "python",
     "metadata": {},
     "outputs": [
      {
       "output_type": "stream",
       "stream": "stderr",
       "text": [
        "/opt/local/Library/Frameworks/Python.framework/Versions/2.7/lib/python2.7/site-packages/SPARQLWrapper/Wrapper.py:88: RuntimeWarning: JSON-LD disabled because no suitable support has been found\n",
        "  warnings.warn(\"JSON-LD disabled because no suitable support has been found\", RuntimeWarning)\n"
       ]
      }
     ],
     "prompt_number": 1
    },
    {
     "cell_type": "code",
     "collapsed": false,
     "input": [
      "graph = ig.Graph.Read_GraphML('drugbank-ext-v3.grahpml')"
     ],
     "language": "python",
     "metadata": {},
     "outputs": [
      {
       "output_type": "stream",
       "stream": "stderr",
       "text": [
        "-c:1: RuntimeWarning: Could not add vertex ids, there is already an 'id' vertex attribute at foreign-graphml.c:443\n"
       ]
      }
     ],
     "prompt_number": 3
    },
    {
     "cell_type": "markdown",
     "metadata": {},
     "source": [
      "Variants of experiment 3 can be performed using the function `perform_experiment`. It takes a dictionary called setup as its argument and performs the experiment accordingly. The dictionary should be of the form\n",
      "```\n",
      "setup = {\n",
      "*   'expid':      'Experiment id',\n",
      "    'qid':         'id of the question used',\n",
      "    'date':        'date and time',\n",
      "    'description': 'description of the experiment',\n",
      "    'summary':     'summary of the experiment',    'expid': 'experiment id',\n",
      "    'comments':    'any comments',\n",
      "    'graph':       'filename of the graphml file used',    \n",
      "    'correct':     'index of correct mc answer (zero based)',\n",
      "    \n",
      "*   'q_text_entities':   ['list', 'of', 'search queries', 'from question text'],\n",
      "*   'ans_text_entities': [['list', 'of'], ['lists'], ['with answer entities']],\n",
      "*   'trials':            ['list of trials (integers)']\n",
      "\n",
      "    'weights':     'weights to use in experiment. Default: deg_weight',\n",
      "    'qa_dist_fn':  'qa-distance function',\n",
      "    'pickle':      'name of pickle file. Default based on expid'\n",
      "}\n",
      "```\n",
      "The keys starting with `*` must be present. After performing the experiment, all results are saved in the key `results` and the setup dictionary is returned"
     ]
    },
    {
     "cell_type": "code",
     "collapsed": false,
     "input": [
      "def perform_experiment(setup):\n",
      "    \"\"\"Performs experiment 3\n",
      "    \"\"\"\n",
      "    q_entities_list = []\n",
      "    for search_query in setup['q_text_entities']:\n",
      "        res = qa.search_entities(search_query, None)\n",
      "        q_entities_list.append(res)\n",
      "\n",
      "    ans_entities=[]\n",
      "    for ans in setup['ans_text_entities']:\n",
      "        if ans[0][0] != '<':\n",
      "            ans_entities.append(map(qa.find_drugbank_entity, ans))\n",
      "        else:\n",
      "            ans_entities.append(ans)\n",
      "\n",
      "    distfn = None\n",
      "    if 'qa_dist_fn' in setup:\n",
      "        distfn = setup['qa_dist_fn']\n",
      "        \n",
      "    experiment = []\n",
      "    for n in setup['trials']:\n",
      "\n",
      "        result = {'n': n}\n",
      "        q_entities = []\n",
      "        for qlist in q_entities_list:\n",
      "            q_entities += qlist[0:n]\n",
      "\n",
      "        output = qa.rank_qa(graph, q_entities, ans_entities, \n",
      "                method=setup['weights'], qa_dist_fn=distfn)\n",
      "        print 'n: '+ str(n) +'    '+str(output)\n",
      "\n",
      "        result['output'] = output\n",
      "        result['q_len'] = len(q_entities)\n",
      "        result['q_entities'] = q_entities\n",
      "        experiment.append(result)\n",
      "    \n",
      "    setup['results'] = experiment\n",
      "    \n",
      "    # Dump results\n",
      "    if 'pickle' in setup:\n",
      "        outfile = setup['pickle']\n",
      "    else:\n",
      "        outfile = 'qa-experiment'+setup['expid']+'.p'\n",
      "    \n",
      "    setup['pickle'] = outfile\n",
      "    pickle.dump(setup, open(outfile,'w'))\n",
      "    \n",
      "    return setup"
     ],
     "language": "python",
     "metadata": {},
     "outputs": [],
     "prompt_number": 4
    },
    {
     "cell_type": "markdown",
     "metadata": {},
     "source": [
      "Question 2 (Q119#2)\n",
      "=========\n",
      ">Synthetic analog of **deoxyadenosine**; **active triphosphate** form inhibits **viral replication** by competitively inhibiting **HIV reverse transcriptase** and by **chain termination** ;may be prescribed concurrently with **zidovudine** or given as **monotherapy**; major clinical toxicity is a **dose-dependent pancreatitis**.\n",
      ">1. zalcitabine (Hivid, ddc)\n",
      ">2. trifluridine (Viroptic)\n",
      ">3. didanosine (Videx, ddI)\n",
      ">4. foscarnet (Foscavir)\n",
      "\n",
      "** Correct answer: 3 (didanosine)**"
     ]
    },
    {
     "cell_type": "markdown",
     "metadata": {},
     "source": [
      "Default setup for Q2 and specific setups\n",
      "---------------"
     ]
    },
    {
     "cell_type": "code",
     "collapsed": false,
     "input": [
      "def_q2_setup = {\n",
      "    'description': \"\"\"What is the effect of certain design choices?\n",
      "    In particular, what is the effect of the qa-distance function?\n",
      "    And, second, how does the algorigh perform using rel_weights?\"\"\",\n",
      "    \n",
      "    'date': '2014/08/16 12:30',\n",
      "\n",
      "    'qid': 'Q119#2',\n",
      "    'correct': 2,\n",
      "    'q_text_entities': [\n",
      "        'deoxyadenosine','active triphosphate','viral replication',\n",
      "        'HIV reverse transcriptase','chain termination','zidovudine',\n",
      "        'monotherapy','dose-dependent pancreatitis'],\n",
      "\n",
      "    'ans_text_entities': [\n",
      "        ['zalcitabine'],\n",
      "        ['trifluridine'],\n",
      "        ['didanosine'],\n",
      "        ['foscarnet']],\n",
      "\n",
      "    'graph': 'drugbank-ext-v3.graphml',\n",
      "    'trials': [2]+range(10,500,10)\n",
      "}"
     ],
     "language": "python",
     "metadata": {},
     "outputs": [],
     "prompt_number": 5
    },
    {
     "cell_type": "code",
     "collapsed": false,
     "input": [
      "def med_med_qa_distance(distances):\n",
      "\treturn np.median(np.median(distances,axis=0))\n",
      "\n",
      "def avg_avg_qa_distance(distances):\n",
      "\treturn np.average(np.average(distances,axis=0))\n",
      "\n",
      "## DEGREE\n",
      "\n",
      "setup_v0 = {\n",
      "    'expid':'e5-v0',\n",
      "    'comments': \"Using average-median qa distance (default)\",\n",
      "    'weights': 'deg_weight',\n",
      "    'qa_dist_fn': None\n",
      "}\n",
      "\n",
      "setup_v1 = {\n",
      "    'expid':'e5-v1',\n",
      "    'comments': \"Using median-median qa distance\",\n",
      "    'weights': 'deg_weight',\n",
      "    'qa_dist_fn': med_med_qa_distance\n",
      "}\n",
      "\n",
      "setup_v2 = {\n",
      "    'expid':'e5-v2',\n",
      "    'comments': \"Using average-average qa distance\",\n",
      "    'weights': 'deg_weight',\n",
      "    'qa_dist_fn': avg_avg_qa_distance\n",
      "}\n",
      "\n",
      "## INVERSE REL WEIGHTS\n",
      "\n",
      "setup_v3 = {\n",
      "    'graph': 'drugbank-ext-v3.graphml', # with inverse rel-weights\n",
      "    'expid':'e5-v3',\n",
      "    'comments': \"Using average-median qa distance (default) and Inverse Rel Weights\",\n",
      "    'weights': 'inv_rel_weight',\n",
      "    'qa_dist_fn': None\n",
      "}\n",
      "\n",
      "setup_v4 = {\n",
      "    'graph': 'drugbank-ext-v3.graphml', # with inverse rel-weights\n",
      "    'expid':'e5-v4',\n",
      "    'comments': \"Using median-median qa distance and Inverse Rel Weights\",\n",
      "    'weights': 'inv_rel_weight',\n",
      "    'qa_dist_fn': med_med_qa_distance\n",
      "}\n",
      "\n",
      "setup_v5 = {\n",
      "    'graph': 'drugbank-ext-v3.graphml', # with inverse rel-weights\n",
      "    'expid':'e5-v5',\n",
      "    'comments': \"Using average-average qa distance and Inverse Rel Weights\",\n",
      "    'weights': 'inv_rel_weight',\n",
      "    'qa_dist_fn': avg_avg_qa_distance\n",
      "}\n",
      "\n",
      "\n",
      "## REL WEIGHTS\n",
      "setup_v6 = {\n",
      "    'graph': 'drugbank-ext-v3.graphml', # with inverse rel-weights\n",
      "    'expid':'e5-v6',\n",
      "    'comments': \"Using average-median qa distance (default) and Rel Weights\",\n",
      "    'weights': 'rel_weight',\n",
      "    'qa_dist_fn': None\n",
      "}\n",
      "\n",
      "setup_v7 = {\n",
      "    'graph': 'drugbank-ext-v3.graphml', # with inverse rel-weights\n",
      "    'expid':'e5-v7',\n",
      "    'comments': \"Using median-median qa distance and Rel Weights\",\n",
      "    'weights': 'rel_weight',\n",
      "    'qa_dist_fn': med_med_qa_distance\n",
      "}\n",
      "\n",
      "setup_v8 = {\n",
      "    'graph': 'drugbank-ext-v3.graphml', # with inverse rel-weights\n",
      "    'expid':'e5-v8',\n",
      "    'comments': \"Using average-average qa distance and Rel Weights\",\n",
      "    'weights': 'rel_weight',\n",
      "    'qa_dist_fn': avg_avg_qa_distance\n",
      "}"
     ],
     "language": "python",
     "metadata": {},
     "outputs": [],
     "prompt_number": 6
    },
    {
     "cell_type": "code",
     "collapsed": false,
     "input": [
      "%time results_v0 = perform_experiment( dict(def_q2_setup.items() + setup_v0.items()) )\n",
      "%time results_v1 = perform_experiment( dict(def_q2_setup.items() + setup_v1.items()) )\n",
      "%time results_v2 = perform_experiment( dict(def_q2_setup.items() + setup_v2.items()) )\n",
      "%time results_v3 = perform_experiment( dict(def_q2_setup.items() + setup_v3.items()) )\n",
      "%time results_v4 = perform_experiment( dict(def_q2_setup.items() + setup_v4.items()) )\n",
      "%time results_v5 = perform_experiment( dict(def_q2_setup.items() + setup_v5.items()) )\n",
      "%time results_v6 = perform_experiment( dict(def_q2_setup.items() + setup_v6.items()) )\n",
      "%time results_v7 = perform_experiment( dict(def_q2_setup.items() + setup_v7.items()) )\n",
      "%time results_v8 = perform_experiment( dict(def_q2_setup.items() + setup_v8.items()) )\n",
      "\n"
     ],
     "language": "python",
     "metadata": {},
     "outputs": [
      {
       "output_type": "stream",
       "stream": "stdout",
       "text": [
        "n: 2    (0, array([ 21.51229786,  22.64678929,  22.08065429,  22.55802286]))\n",
        "n: 10    (2, array([ 21.79308517,  22.85999879,  21.41116414,  22.35281224]))"
       ]
      },
      {
       "output_type": "stream",
       "stream": "stdout",
       "text": [
        "\n",
        "n: 20    (2, array([ 22.14466821,  23.21231726,  21.87577802,  22.68782217]))"
       ]
      },
      {
       "output_type": "stream",
       "stream": "stdout",
       "text": [
        "\n",
        "n: 30    (2, array([ 22.23527768,  23.14302788,  21.85668411,  22.78864298]))"
       ]
      },
      {
       "output_type": "stream",
       "stream": "stdout",
       "text": [
        "\n",
        "n: 40    (2, array([ 22.10468034,  23.16011569,  21.77970661,  22.58191316]))"
       ]
      },
      {
       "output_type": "stream",
       "stream": "stdout",
       "text": [
        "\n",
        "n: 50    (2, array([ 22.20045   ,  23.22139197,  21.91229803,  22.62981324]))"
       ]
      },
      {
       "output_type": "stream",
       "stream": "stdout",
       "text": [
        "\n",
        "n: 60    (2, array([ 22.23018859,  23.23570398,  21.97575513,  22.65325387]))"
       ]
      },
      {
       "output_type": "stream",
       "stream": "stdout",
       "text": [
        "\n",
        "n: 70    (2, array([ 22.23018859,  23.23570398,  21.97575513,  22.65325387]))"
       ]
      },
      {
       "output_type": "stream",
       "stream": "stdout",
       "text": [
        "\n",
        "n: 80    (2, array([ 22.23018859,  23.23570398,  21.97575513,  22.65325387]))"
       ]
      },
      {
       "output_type": "stream",
       "stream": "stdout",
       "text": [
        "\n",
        "n: 90    (2, array([ 22.23018859,  23.23570398,  21.97575513,  22.65325387]))"
       ]
      },
      {
       "output_type": "stream",
       "stream": "stdout",
       "text": [
        "\n",
        "n: 100    (2, array([ 22.23018859,  23.23570398,  21.97575513,  22.65325387]))"
       ]
      },
      {
       "output_type": "stream",
       "stream": "stdout",
       "text": [
        "\n",
        "n: 110    (2, array([ 22.23018859,  23.23570398,  21.97575513,  22.65325387]))"
       ]
      },
      {
       "output_type": "stream",
       "stream": "stdout",
       "text": [
        "\n",
        "n: 120    (2, array([ 22.23018859,  23.23570398,  21.97575513,  22.65325387]))"
       ]
      },
      {
       "output_type": "stream",
       "stream": "stdout",
       "text": [
        "\n",
        "n: 130    (2, array([ 22.23018859,  23.23570398,  21.97575513,  22.65325387]))"
       ]
      },
      {
       "output_type": "stream",
       "stream": "stdout",
       "text": [
        "\n",
        "n: 140    (2, array([ 22.23018859,  23.23570398,  21.97575513,  22.65325387]))"
       ]
      },
      {
       "output_type": "stream",
       "stream": "stdout",
       "text": [
        "\n",
        "n: 150    (2, array([ 22.23018859,  23.23570398,  21.97575513,  22.65325387]))"
       ]
      },
      {
       "output_type": "stream",
       "stream": "stdout",
       "text": [
        "\n",
        "n: 160    (2, array([ 22.23018859,  23.23570398,  21.97575513,  22.65325387]))"
       ]
      },
      {
       "output_type": "stream",
       "stream": "stdout",
       "text": [
        "\n",
        "n: 170    (2, array([ 22.23018859,  23.23570398,  21.97575513,  22.65325387]))"
       ]
      },
      {
       "output_type": "stream",
       "stream": "stdout",
       "text": [
        "\n",
        "n: 180    (2, array([ 22.23018859,  23.23570398,  21.97575513,  22.65325387]))"
       ]
      },
      {
       "output_type": "stream",
       "stream": "stdout",
       "text": [
        "\n",
        "n: 190    (2, array([ 22.23018859,  23.23570398,  21.97575513,  22.65325387]))"
       ]
      },
      {
       "output_type": "stream",
       "stream": "stdout",
       "text": [
        "\n",
        "n: 200    (2, array([ 22.23018859,  23.23570398,  21.97575513,  22.65325387]))"
       ]
      },
      {
       "output_type": "stream",
       "stream": "stdout",
       "text": [
        "\n",
        "n: 210    (2, array([ 22.23018859,  23.23570398,  21.97575513,  22.65325387]))"
       ]
      },
      {
       "output_type": "stream",
       "stream": "stdout",
       "text": [
        "\n",
        "n: 220    (2, array([ 22.23018859,  23.23570398,  21.97575513,  22.65325387]))"
       ]
      },
      {
       "output_type": "stream",
       "stream": "stdout",
       "text": [
        "\n",
        "n: 230    (2, array([ 22.23018859,  23.23570398,  21.97575513,  22.65325387]))"
       ]
      },
      {
       "output_type": "stream",
       "stream": "stdout",
       "text": [
        "\n",
        "n: 240    (2, array([ 22.23018859,  23.23570398,  21.97575513,  22.65325387]))"
       ]
      },
      {
       "output_type": "stream",
       "stream": "stdout",
       "text": [
        "\n",
        "n: 250    (2, array([ 22.23018859,  23.23570398,  21.97575513,  22.65325387]))"
       ]
      },
      {
       "output_type": "stream",
       "stream": "stdout",
       "text": [
        "\n",
        "n: 260    (2, array([ 22.23018859,  23.23570398,  21.97575513,  22.65325387]))"
       ]
      },
      {
       "output_type": "stream",
       "stream": "stdout",
       "text": [
        "\n",
        "n: 270    (2, array([ 22.23018859,  23.23570398,  21.97575513,  22.65325387]))"
       ]
      },
      {
       "output_type": "stream",
       "stream": "stdout",
       "text": [
        "\n",
        "n: 280    (2, array([ 22.23018859,  23.23570398,  21.97575513,  22.65325387]))"
       ]
      },
      {
       "output_type": "stream",
       "stream": "stdout",
       "text": [
        "\n",
        "n: 290    (2, array([ 22.23018859,  23.23570398,  21.97575513,  22.65325387]))"
       ]
      },
      {
       "output_type": "stream",
       "stream": "stdout",
       "text": [
        "\n",
        "n: 300    (2, array([ 22.23018859,  23.23570398,  21.97575513,  22.65325387]))"
       ]
      },
      {
       "output_type": "stream",
       "stream": "stdout",
       "text": [
        "\n",
        "n: 310    (2, array([ 22.23018859,  23.23570398,  21.97575513,  22.65325387]))"
       ]
      },
      {
       "output_type": "stream",
       "stream": "stdout",
       "text": [
        "\n",
        "n: 320    (2, array([ 22.23018859,  23.23570398,  21.97575513,  22.65325387]))"
       ]
      },
      {
       "output_type": "stream",
       "stream": "stdout",
       "text": [
        "\n",
        "n: 330    (2, array([ 22.23018859,  23.23570398,  21.97575513,  22.65325387]))"
       ]
      },
      {
       "output_type": "stream",
       "stream": "stdout",
       "text": [
        "\n",
        "n: 340    (2, array([ 22.23018859,  23.23570398,  21.97575513,  22.65325387]))"
       ]
      },
      {
       "output_type": "stream",
       "stream": "stdout",
       "text": [
        "\n",
        "n: 350    (2, array([ 22.23018859,  23.23570398,  21.97575513,  22.65325387]))"
       ]
      },
      {
       "output_type": "stream",
       "stream": "stdout",
       "text": [
        "\n",
        "n: 360    (2, array([ 22.23018859,  23.23570398,  21.97575513,  22.65325387]))"
       ]
      },
      {
       "output_type": "stream",
       "stream": "stdout",
       "text": [
        "\n",
        "n: 370    (2, array([ 22.23018859,  23.23570398,  21.97575513,  22.65325387]))"
       ]
      },
      {
       "output_type": "stream",
       "stream": "stdout",
       "text": [
        "\n",
        "n: 380    (2, array([ 22.23018859,  23.23570398,  21.97575513,  22.65325387]))"
       ]
      },
      {
       "output_type": "stream",
       "stream": "stdout",
       "text": [
        "\n",
        "n: 390    (2, array([ 22.23018859,  23.23570398,  21.97575513,  22.65325387]))"
       ]
      },
      {
       "output_type": "stream",
       "stream": "stdout",
       "text": [
        "\n",
        "n: 400    (2, array([ 22.23018859,  23.23570398,  21.97575513,  22.65325387]))"
       ]
      },
      {
       "output_type": "stream",
       "stream": "stdout",
       "text": [
        "\n",
        "n: 410    (2, array([ 22.23018859,  23.23570398,  21.97575513,  22.65325387]))"
       ]
      },
      {
       "output_type": "stream",
       "stream": "stdout",
       "text": [
        "\n",
        "n: 420    (2, array([ 22.23018859,  23.23570398,  21.97575513,  22.65325387]))"
       ]
      },
      {
       "output_type": "stream",
       "stream": "stdout",
       "text": [
        "\n",
        "n: 430    (2, array([ 22.23018859,  23.23570398,  21.97575513,  22.65325387]))"
       ]
      },
      {
       "output_type": "stream",
       "stream": "stdout",
       "text": [
        "\n",
        "n: 440    (2, array([ 22.23018859,  23.23570398,  21.97575513,  22.65325387]))"
       ]
      },
      {
       "output_type": "stream",
       "stream": "stdout",
       "text": [
        "\n",
        "n: 450    (2, array([ 22.23018859,  23.23570398,  21.97575513,  22.65325387]))"
       ]
      },
      {
       "output_type": "stream",
       "stream": "stdout",
       "text": [
        "\n",
        "n: 460    (2, array([ 22.23018859,  23.23570398,  21.97575513,  22.65325387]))"
       ]
      },
      {
       "output_type": "stream",
       "stream": "stdout",
       "text": [
        "\n",
        "n: 470    (2, array([ 22.23018859,  23.23570398,  21.97575513,  22.65325387]))"
       ]
      },
      {
       "output_type": "stream",
       "stream": "stdout",
       "text": [
        "\n",
        "n: 480    (2, array([ 22.23018859,  23.23570398,  21.97575513,  22.65325387]))"
       ]
      },
      {
       "output_type": "stream",
       "stream": "stdout",
       "text": [
        "\n",
        "n: 490    (2, array([ 22.23018859,  23.23570398,  21.97575513,  22.65325387]))"
       ]
      },
      {
       "output_type": "stream",
       "stream": "stdout",
       "text": [
        "\n",
        "CPU times: user 21min 23s, sys: 34.7 s, total: 21min 57s"
       ]
      },
      {
       "output_type": "stream",
       "stream": "stdout",
       "text": [
        "\n",
        "Wall time: 22min 20s\n",
        "n: 2    (2, array([ 22.605645,  22.68285 ,  21.448055,  24.01339 ]))"
       ]
      },
      {
       "output_type": "stream",
       "stream": "stdout",
       "text": [
        "\n",
        "n: 10    (2, array([ 21.891815,  23.77871 ,  21.36901 ,  21.81467 ]))"
       ]
      },
      {
       "output_type": "stream",
       "stream": "stdout",
       "text": [
        "\n",
        "n: 20    (2, array([ 22.84539,  23.87655,  22.39938,  23.83959]))"
       ]
      },
      {
       "output_type": "stream",
       "stream": "stdout",
       "text": [
        "\n",
        "n: 30    (2, array([ 22.84539,  23.87655,  22.36795,  23.86618]))"
       ]
      },
      {
       "output_type": "stream",
       "stream": "stdout",
       "text": [
        "\n",
        "n: 40    (2, array([ 22.652755,  23.87655 ,  22.103865,  23.861505]))"
       ]
      },
      {
       "output_type": "stream",
       "stream": "stdout",
       "text": [
        "\n",
        "n: 50    (2, array([ 22.652755,  23.87655 ,  22.38943 ,  23.861505]))"
       ]
      },
      {
       "output_type": "stream",
       "stream": "stdout",
       "text": [
        "\n",
        "n: 60    (2, array([ 22.76291,  23.87655,  22.41091,  23.86618]))"
       ]
      },
      {
       "output_type": "stream",
       "stream": "stdout",
       "text": [
        "\n",
        "n: 70    (2, array([ 22.76291,  23.87655,  22.41091,  23.86618]))"
       ]
      },
      {
       "output_type": "stream",
       "stream": "stdout",
       "text": [
        "\n",
        "n: 80    (2, array([ 22.76291,  23.87655,  22.41091,  23.86618]))"
       ]
      },
      {
       "output_type": "stream",
       "stream": "stdout",
       "text": [
        "\n",
        "n: 90    (2, array([ 22.76291,  23.87655,  22.41091,  23.86618]))"
       ]
      },
      {
       "output_type": "stream",
       "stream": "stdout",
       "text": [
        "\n",
        "n: 100    (2, array([ 22.76291,  23.87655,  22.41091,  23.86618]))"
       ]
      },
      {
       "output_type": "stream",
       "stream": "stdout",
       "text": [
        "\n",
        "n: 110    (2, array([ 22.76291,  23.87655,  22.41091,  23.86618]))"
       ]
      },
      {
       "output_type": "stream",
       "stream": "stdout",
       "text": [
        "\n",
        "n: 120    (2, array([ 22.76291,  23.87655,  22.41091,  23.86618]))"
       ]
      },
      {
       "output_type": "stream",
       "stream": "stdout",
       "text": [
        "\n",
        "n: 130    (2, array([ 22.76291,  23.87655,  22.41091,  23.86618]))"
       ]
      },
      {
       "output_type": "stream",
       "stream": "stdout",
       "text": [
        "\n",
        "n: 140    (2, array([ 22.76291,  23.87655,  22.41091,  23.86618]))"
       ]
      },
      {
       "output_type": "stream",
       "stream": "stdout",
       "text": [
        "\n",
        "n: 150    (2, array([ 22.76291,  23.87655,  22.41091,  23.86618]))"
       ]
      },
      {
       "output_type": "stream",
       "stream": "stdout",
       "text": [
        "\n",
        "n: 160    (2, array([ 22.76291,  23.87655,  22.41091,  23.86618]))"
       ]
      },
      {
       "output_type": "stream",
       "stream": "stdout",
       "text": [
        "\n",
        "n: 170    (2, array([ 22.76291,  23.87655,  22.41091,  23.86618]))"
       ]
      },
      {
       "output_type": "stream",
       "stream": "stdout",
       "text": [
        "\n",
        "n: 180    (2, array([ 22.76291,  23.87655,  22.41091,  23.86618]))"
       ]
      },
      {
       "output_type": "stream",
       "stream": "stdout",
       "text": [
        "\n",
        "n: 190    (2, array([ 22.76291,  23.87655,  22.41091,  23.86618]))"
       ]
      },
      {
       "output_type": "stream",
       "stream": "stdout",
       "text": [
        "\n",
        "n: 200    (2, array([ 22.76291,  23.87655,  22.41091,  23.86618]))"
       ]
      },
      {
       "output_type": "stream",
       "stream": "stdout",
       "text": [
        "\n",
        "n: 210    (2, array([ 22.76291,  23.87655,  22.41091,  23.86618]))"
       ]
      },
      {
       "output_type": "stream",
       "stream": "stdout",
       "text": [
        "\n",
        "n: 220    (2, array([ 22.76291,  23.87655,  22.41091,  23.86618]))"
       ]
      },
      {
       "output_type": "stream",
       "stream": "stdout",
       "text": [
        "\n",
        "n: 230    (2, array([ 22.76291,  23.87655,  22.41091,  23.86618]))"
       ]
      },
      {
       "output_type": "stream",
       "stream": "stdout",
       "text": [
        "\n",
        "n: 240    (2, array([ 22.76291,  23.87655,  22.41091,  23.86618]))"
       ]
      },
      {
       "output_type": "stream",
       "stream": "stdout",
       "text": [
        "\n",
        "n: 250    (2, array([ 22.76291,  23.87655,  22.41091,  23.86618]))"
       ]
      },
      {
       "output_type": "stream",
       "stream": "stdout",
       "text": [
        "\n",
        "n: 260    (2, array([ 22.76291,  23.87655,  22.41091,  23.86618]))"
       ]
      },
      {
       "output_type": "stream",
       "stream": "stdout",
       "text": [
        "\n",
        "n: 270    (2, array([ 22.76291,  23.87655,  22.41091,  23.86618]))"
       ]
      },
      {
       "output_type": "stream",
       "stream": "stdout",
       "text": [
        "\n",
        "n: 280    (2, array([ 22.76291,  23.87655,  22.41091,  23.86618]))"
       ]
      },
      {
       "output_type": "stream",
       "stream": "stdout",
       "text": [
        "\n",
        "n: 290    (2, array([ 22.76291,  23.87655,  22.41091,  23.86618]))"
       ]
      },
      {
       "output_type": "stream",
       "stream": "stdout",
       "text": [
        "\n",
        "n: 300    (2, array([ 22.76291,  23.87655,  22.41091,  23.86618]))"
       ]
      },
      {
       "output_type": "stream",
       "stream": "stdout",
       "text": [
        "\n",
        "n: 310    (2, array([ 22.76291,  23.87655,  22.41091,  23.86618]))"
       ]
      },
      {
       "output_type": "stream",
       "stream": "stdout",
       "text": [
        "\n",
        "n: 320    (2, array([ 22.76291,  23.87655,  22.41091,  23.86618]))"
       ]
      },
      {
       "output_type": "stream",
       "stream": "stdout",
       "text": [
        "\n",
        "n: 330    (2, array([ 22.76291,  23.87655,  22.41091,  23.86618]))"
       ]
      },
      {
       "output_type": "stream",
       "stream": "stdout",
       "text": [
        "\n",
        "n: 340    (2, array([ 22.76291,  23.87655,  22.41091,  23.86618]))"
       ]
      },
      {
       "output_type": "stream",
       "stream": "stdout",
       "text": [
        "\n",
        "n: 350    (2, array([ 22.76291,  23.87655,  22.41091,  23.86618]))"
       ]
      },
      {
       "output_type": "stream",
       "stream": "stdout",
       "text": [
        "\n",
        "n: 360    (2, array([ 22.76291,  23.87655,  22.41091,  23.86618]))"
       ]
      },
      {
       "output_type": "stream",
       "stream": "stdout",
       "text": [
        "\n",
        "n: 370    (2, array([ 22.76291,  23.87655,  22.41091,  23.86618]))"
       ]
      },
      {
       "output_type": "stream",
       "stream": "stdout",
       "text": [
        "\n",
        "n: 380    (2, array([ 22.76291,  23.87655,  22.41091,  23.86618]))"
       ]
      },
      {
       "output_type": "stream",
       "stream": "stdout",
       "text": [
        "\n",
        "n: 390    (2, array([ 22.76291,  23.87655,  22.41091,  23.86618]))"
       ]
      },
      {
       "output_type": "stream",
       "stream": "stdout",
       "text": [
        "\n",
        "n: 400    (2, array([ 22.76291,  23.87655,  22.41091,  23.86618]))"
       ]
      },
      {
       "output_type": "stream",
       "stream": "stdout",
       "text": [
        "\n",
        "n: 410    (2, array([ 22.76291,  23.87655,  22.41091,  23.86618]))"
       ]
      },
      {
       "output_type": "stream",
       "stream": "stdout",
       "text": [
        "\n",
        "n: 420    (2, array([ 22.76291,  23.87655,  22.41091,  23.86618]))"
       ]
      },
      {
       "output_type": "stream",
       "stream": "stdout",
       "text": [
        "\n",
        "n: 430    (2, array([ 22.76291,  23.87655,  22.41091,  23.86618]))"
       ]
      },
      {
       "output_type": "stream",
       "stream": "stdout",
       "text": [
        "\n",
        "n: 440    (2, array([ 22.76291,  23.87655,  22.41091,  23.86618]))"
       ]
      },
      {
       "output_type": "stream",
       "stream": "stdout",
       "text": [
        "\n",
        "n: 450    (2, array([ 22.76291,  23.87655,  22.41091,  23.86618]))"
       ]
      },
      {
       "output_type": "stream",
       "stream": "stdout",
       "text": [
        "\n",
        "n: 460    (2, array([ 22.76291,  23.87655,  22.41091,  23.86618]))"
       ]
      },
      {
       "output_type": "stream",
       "stream": "stdout",
       "text": [
        "\n",
        "n: 470    (2, array([ 22.76291,  23.87655,  22.41091,  23.86618]))"
       ]
      },
      {
       "output_type": "stream",
       "stream": "stdout",
       "text": [
        "\n",
        "n: 480    (2, array([ 22.76291,  23.87655,  22.41091,  23.86618]))"
       ]
      },
      {
       "output_type": "stream",
       "stream": "stdout",
       "text": [
        "\n",
        "n: 490    (2, array([ 22.76291,  23.87655,  22.41091,  23.86618]))"
       ]
      },
      {
       "output_type": "stream",
       "stream": "stdout",
       "text": [
        "\n",
        "CPU times: user 19min 43s, sys: 38.7 s, total: 20min 21s"
       ]
      },
      {
       "output_type": "stream",
       "stream": "stdout",
       "text": [
        "\n",
        "Wall time: 20min 15s\n",
        "n: 2    (0, array([ 21.51229786,  22.64678929,  22.08065429,  22.55802286]))"
       ]
      },
      {
       "output_type": "stream",
       "stream": "stdout",
       "text": [
        "\n",
        "n: 10    (2, array([ 21.79308517,  22.85999879,  21.41116414,  22.35281224]))"
       ]
      },
      {
       "output_type": "stream",
       "stream": "stdout",
       "text": [
        "\n",
        "n: 20    (2, array([ 22.14466821,  23.21231726,  21.87577802,  22.68782217]))"
       ]
      },
      {
       "output_type": "stream",
       "stream": "stdout",
       "text": [
        "\n",
        "n: 30    (2, array([ 22.23527768,  23.14302788,  21.85668411,  22.78864298]))"
       ]
      },
      {
       "output_type": "stream",
       "stream": "stdout",
       "text": [
        "\n",
        "n: 40    (2, array([ 22.10468034,  23.16011569,  21.77970661,  22.58191316]))"
       ]
      },
      {
       "output_type": "stream",
       "stream": "stdout",
       "text": [
        "\n",
        "n: 50    (2, array([ 22.20045   ,  23.22139197,  21.91229803,  22.62981324]))"
       ]
      },
      {
       "output_type": "stream",
       "stream": "stdout",
       "text": [
        "\n",
        "n: 60    (2, array([ 22.23018859,  23.23570398,  21.97575513,  22.65325387]))"
       ]
      },
      {
       "output_type": "stream",
       "stream": "stdout",
       "text": [
        "\n",
        "n: 70    (2, array([ 22.23018859,  23.23570398,  21.97575513,  22.65325387]))"
       ]
      },
      {
       "output_type": "stream",
       "stream": "stdout",
       "text": [
        "\n",
        "n: 80    (2, array([ 22.23018859,  23.23570398,  21.97575513,  22.65325387]))"
       ]
      },
      {
       "output_type": "stream",
       "stream": "stdout",
       "text": [
        "\n",
        "n: 90    (2, array([ 22.23018859,  23.23570398,  21.97575513,  22.65325387]))"
       ]
      },
      {
       "output_type": "stream",
       "stream": "stdout",
       "text": [
        "\n",
        "n: 100    (2, array([ 22.23018859,  23.23570398,  21.97575513,  22.65325387]))"
       ]
      },
      {
       "output_type": "stream",
       "stream": "stdout",
       "text": [
        "\n",
        "n: 110    (2, array([ 22.23018859,  23.23570398,  21.97575513,  22.65325387]))"
       ]
      },
      {
       "output_type": "stream",
       "stream": "stdout",
       "text": [
        "\n",
        "n: 120    (2, array([ 22.23018859,  23.23570398,  21.97575513,  22.65325387]))"
       ]
      },
      {
       "output_type": "stream",
       "stream": "stdout",
       "text": [
        "\n",
        "n: 130    (2, array([ 22.23018859,  23.23570398,  21.97575513,  22.65325387]))"
       ]
      },
      {
       "output_type": "stream",
       "stream": "stdout",
       "text": [
        "\n",
        "n: 140    (2, array([ 22.23018859,  23.23570398,  21.97575513,  22.65325387]))"
       ]
      },
      {
       "output_type": "stream",
       "stream": "stdout",
       "text": [
        "\n",
        "n: 150    (2, array([ 22.23018859,  23.23570398,  21.97575513,  22.65325387]))"
       ]
      },
      {
       "output_type": "stream",
       "stream": "stdout",
       "text": [
        "\n",
        "n: 160    (2, array([ 22.23018859,  23.23570398,  21.97575513,  22.65325387]))"
       ]
      },
      {
       "output_type": "stream",
       "stream": "stdout",
       "text": [
        "\n",
        "n: 170    (2, array([ 22.23018859,  23.23570398,  21.97575513,  22.65325387]))"
       ]
      },
      {
       "output_type": "stream",
       "stream": "stdout",
       "text": [
        "\n",
        "n: 180    (2, array([ 22.23018859,  23.23570398,  21.97575513,  22.65325387]))"
       ]
      },
      {
       "output_type": "stream",
       "stream": "stdout",
       "text": [
        "\n",
        "n: 190    (2, array([ 22.23018859,  23.23570398,  21.97575513,  22.65325387]))"
       ]
      },
      {
       "output_type": "stream",
       "stream": "stdout",
       "text": [
        "\n",
        "n: 200    (2, array([ 22.23018859,  23.23570398,  21.97575513,  22.65325387]))"
       ]
      },
      {
       "output_type": "stream",
       "stream": "stdout",
       "text": [
        "\n",
        "n: 210    (2, array([ 22.23018859,  23.23570398,  21.97575513,  22.65325387]))"
       ]
      },
      {
       "output_type": "stream",
       "stream": "stdout",
       "text": [
        "\n",
        "n: 220    (2, array([ 22.23018859,  23.23570398,  21.97575513,  22.65325387]))"
       ]
      },
      {
       "output_type": "stream",
       "stream": "stdout",
       "text": [
        "\n",
        "n: 230    (2, array([ 22.23018859,  23.23570398,  21.97575513,  22.65325387]))"
       ]
      },
      {
       "output_type": "stream",
       "stream": "stdout",
       "text": [
        "\n",
        "n: 240    (2, array([ 22.23018859,  23.23570398,  21.97575513,  22.65325387]))"
       ]
      },
      {
       "output_type": "stream",
       "stream": "stdout",
       "text": [
        "\n",
        "n: 250    (2, array([ 22.23018859,  23.23570398,  21.97575513,  22.65325387]))"
       ]
      },
      {
       "output_type": "stream",
       "stream": "stdout",
       "text": [
        "\n",
        "n: 260    (2, array([ 22.23018859,  23.23570398,  21.97575513,  22.65325387]))"
       ]
      },
      {
       "output_type": "stream",
       "stream": "stdout",
       "text": [
        "\n",
        "n: 270    (2, array([ 22.23018859,  23.23570398,  21.97575513,  22.65325387]))"
       ]
      },
      {
       "output_type": "stream",
       "stream": "stdout",
       "text": [
        "\n",
        "n: 280    (2, array([ 22.23018859,  23.23570398,  21.97575513,  22.65325387]))"
       ]
      },
      {
       "output_type": "stream",
       "stream": "stdout",
       "text": [
        "\n",
        "n: 290    (2, array([ 22.23018859,  23.23570398,  21.97575513,  22.65325387]))"
       ]
      },
      {
       "output_type": "stream",
       "stream": "stdout",
       "text": [
        "\n",
        "n: 300    (2, array([ 22.23018859,  23.23570398,  21.97575513,  22.65325387]))"
       ]
      },
      {
       "output_type": "stream",
       "stream": "stdout",
       "text": [
        "\n",
        "n: 310    (2, array([ 22.23018859,  23.23570398,  21.97575513,  22.65325387]))"
       ]
      },
      {
       "output_type": "stream",
       "stream": "stdout",
       "text": [
        "\n",
        "n: 320    (2, array([ 22.23018859,  23.23570398,  21.97575513,  22.65325387]))"
       ]
      },
      {
       "output_type": "stream",
       "stream": "stdout",
       "text": [
        "\n",
        "n: 330    (2, array([ 22.23018859,  23.23570398,  21.97575513,  22.65325387]))"
       ]
      },
      {
       "output_type": "stream",
       "stream": "stdout",
       "text": [
        "\n",
        "n: 340    (2, array([ 22.23018859,  23.23570398,  21.97575513,  22.65325387]))"
       ]
      },
      {
       "output_type": "stream",
       "stream": "stdout",
       "text": [
        "\n",
        "n: 350    (2, array([ 22.23018859,  23.23570398,  21.97575513,  22.65325387]))"
       ]
      },
      {
       "output_type": "stream",
       "stream": "stdout",
       "text": [
        "\n",
        "n: 360    (2, array([ 22.23018859,  23.23570398,  21.97575513,  22.65325387]))"
       ]
      },
      {
       "output_type": "stream",
       "stream": "stdout",
       "text": [
        "\n",
        "n: 370    (2, array([ 22.23018859,  23.23570398,  21.97575513,  22.65325387]))"
       ]
      },
      {
       "output_type": "stream",
       "stream": "stdout",
       "text": [
        "\n",
        "n: 380    (2, array([ 22.23018859,  23.23570398,  21.97575513,  22.65325387]))"
       ]
      },
      {
       "output_type": "stream",
       "stream": "stdout",
       "text": [
        "\n",
        "n: 390    (2, array([ 22.23018859,  23.23570398,  21.97575513,  22.65325387]))"
       ]
      },
      {
       "output_type": "stream",
       "stream": "stdout",
       "text": [
        "\n",
        "n: 400    (2, array([ 22.23018859,  23.23570398,  21.97575513,  22.65325387]))"
       ]
      },
      {
       "output_type": "stream",
       "stream": "stdout",
       "text": [
        "\n",
        "n: 410    (2, array([ 22.23018859,  23.23570398,  21.97575513,  22.65325387]))"
       ]
      },
      {
       "output_type": "stream",
       "stream": "stdout",
       "text": [
        "\n",
        "n: 420    (2, array([ 22.23018859,  23.23570398,  21.97575513,  22.65325387]))"
       ]
      },
      {
       "output_type": "stream",
       "stream": "stdout",
       "text": [
        "\n",
        "n: 430    (2, array([ 22.23018859,  23.23570398,  21.97575513,  22.65325387]))"
       ]
      },
      {
       "output_type": "stream",
       "stream": "stdout",
       "text": [
        "\n",
        "n: 440    (2, array([ 22.23018859,  23.23570398,  21.97575513,  22.65325387]))"
       ]
      },
      {
       "output_type": "stream",
       "stream": "stdout",
       "text": [
        "\n",
        "n: 450    (2, array([ 22.23018859,  23.23570398,  21.97575513,  22.65325387]))"
       ]
      },
      {
       "output_type": "stream",
       "stream": "stdout",
       "text": [
        "\n",
        "n: 460    (2, array([ 22.23018859,  23.23570398,  21.97575513,  22.65325387]))"
       ]
      },
      {
       "output_type": "stream",
       "stream": "stdout",
       "text": [
        "\n",
        "n: 470    (2, array([ 22.23018859,  23.23570398,  21.97575513,  22.65325387]))"
       ]
      },
      {
       "output_type": "stream",
       "stream": "stdout",
       "text": [
        "\n",
        "n: 480    (2, array([ 22.23018859,  23.23570398,  21.97575513,  22.65325387]))"
       ]
      },
      {
       "output_type": "stream",
       "stream": "stdout",
       "text": [
        "\n",
        "n: 490    (2, array([ 22.23018859,  23.23570398,  21.97575513,  22.65325387]))"
       ]
      },
      {
       "output_type": "stream",
       "stream": "stdout",
       "text": [
        "\n",
        "CPU times: user 19min 45s, sys: 37.7 s, total: 20min 23s"
       ]
      },
      {
       "output_type": "stream",
       "stream": "stdout",
       "text": [
        "\n",
        "Wall time: 20min 18s\n",
        "n: 2    (0, array([ 1.85714286,  2.        ,  2.        ,  2.        ]))"
       ]
      },
      {
       "output_type": "stream",
       "stream": "stdout",
       "text": [
        "\n",
        "n: 10    (0, array([ 1.96551724,  1.98275862,  1.96551724,  2.        ]))"
       ]
      },
      {
       "output_type": "stream",
       "stream": "stdout",
       "text": [
        "\n",
        "n: 20    (0, array([ 1.97169811,  1.99056604,  1.97169811,  2.        ]))"
       ]
      },
      {
       "output_type": "stream",
       "stream": "stdout",
       "text": [
        "\n",
        "n: 30    (2, array([ 1.9691553 ,  1.98938665,  1.9624724 ,  1.99683028]))"
       ]
      },
      {
       "output_type": "stream",
       "stream": "stdout",
       "text": [
        "\n",
        "n: 40    (2, array([ 1.97323248,  1.99078956,  1.96743295,  1.99150214]))"
       ]
      },
      {
       "output_type": "stream",
       "stream": "stdout",
       "text": [
        "\n",
        "n: 50    (2, array([ 1.9717282 ,  1.98827004,  1.96631205,  1.98958906]))"
       ]
      },
      {
       "output_type": "stream",
       "stream": "stdout",
       "text": [
        "\n",
        "n: 60    (2, array([ 1.97217226,  1.98845428,  1.96684118,  1.98975259]))"
       ]
      },
      {
       "output_type": "stream",
       "stream": "stdout",
       "text": [
        "\n",
        "n: 70    (2, array([ 1.97217226,  1.98845428,  1.96684118,  1.98975259]))"
       ]
      },
      {
       "output_type": "stream",
       "stream": "stdout",
       "text": [
        "\n",
        "n: 80    (2, array([ 1.97217226,  1.98845428,  1.96684118,  1.98975259]))"
       ]
      },
      {
       "output_type": "stream",
       "stream": "stdout",
       "text": [
        "\n",
        "n: 90    (2, array([ 1.97217226,  1.98845428,  1.96684118,  1.98975259]))"
       ]
      },
      {
       "output_type": "stream",
       "stream": "stdout",
       "text": [
        "\n",
        "n: 100    (2, array([ 1.97217226,  1.98845428,  1.96684118,  1.98975259]))"
       ]
      },
      {
       "output_type": "stream",
       "stream": "stdout",
       "text": [
        "\n",
        "n: 110    (2, array([ 1.97217226,  1.98845428,  1.96684118,  1.98975259]))"
       ]
      },
      {
       "output_type": "stream",
       "stream": "stdout",
       "text": [
        "\n",
        "n: 120    (2, array([ 1.97217226,  1.98845428,  1.96684118,  1.98975259]))"
       ]
      },
      {
       "output_type": "stream",
       "stream": "stdout",
       "text": [
        "\n",
        "n: 130    (2, array([ 1.97217226,  1.98845428,  1.96684118,  1.98975259]))"
       ]
      },
      {
       "output_type": "stream",
       "stream": "stdout",
       "text": [
        "\n",
        "n: 140    (2, array([ 1.97217226,  1.98845428,  1.96684118,  1.98975259]))"
       ]
      },
      {
       "output_type": "stream",
       "stream": "stdout",
       "text": [
        "\n",
        "n: 150    (2, array([ 1.97217226,  1.98845428,  1.96684118,  1.98975259]))"
       ]
      },
      {
       "output_type": "stream",
       "stream": "stdout",
       "text": [
        "\n",
        "n: 160    (2, array([ 1.97217226,  1.98845428,  1.96684118,  1.98975259]))"
       ]
      },
      {
       "output_type": "stream",
       "stream": "stdout",
       "text": [
        "\n",
        "n: 170    (2, array([ 1.97217226,  1.98845428,  1.96684118,  1.98975259]))"
       ]
      },
      {
       "output_type": "stream",
       "stream": "stdout",
       "text": [
        "\n",
        "n: 180    (2, array([ 1.97217226,  1.98845428,  1.96684118,  1.98975259]))"
       ]
      },
      {
       "output_type": "stream",
       "stream": "stdout",
       "text": [
        "\n",
        "n: 190    (2, array([ 1.97217226,  1.98845428,  1.96684118,  1.98975259]))"
       ]
      },
      {
       "output_type": "stream",
       "stream": "stdout",
       "text": [
        "\n",
        "n: 200    (2, array([ 1.97217226,  1.98845428,  1.96684118,  1.98975259]))"
       ]
      },
      {
       "output_type": "stream",
       "stream": "stdout",
       "text": [
        "\n",
        "n: 210    (2, array([ 1.97217226,  1.98845428,  1.96684118,  1.98975259]))"
       ]
      },
      {
       "output_type": "stream",
       "stream": "stdout",
       "text": [
        "\n",
        "n: 220    (2, array([ 1.97217226,  1.98845428,  1.96684118,  1.98975259]))"
       ]
      },
      {
       "output_type": "stream",
       "stream": "stdout",
       "text": [
        "\n",
        "n: 230    (2, array([ 1.97217226,  1.98845428,  1.96684118,  1.98975259]))"
       ]
      },
      {
       "output_type": "stream",
       "stream": "stdout",
       "text": [
        "\n",
        "n: 240    (2, array([ 1.97217226,  1.98845428,  1.96684118,  1.98975259]))"
       ]
      },
      {
       "output_type": "stream",
       "stream": "stdout",
       "text": [
        "\n",
        "n: 250    (2, array([ 1.97217226,  1.98845428,  1.96684118,  1.98975259]))"
       ]
      },
      {
       "output_type": "stream",
       "stream": "stdout",
       "text": [
        "\n",
        "n: 260    (2, array([ 1.97217226,  1.98845428,  1.96684118,  1.98975259]))"
       ]
      },
      {
       "output_type": "stream",
       "stream": "stdout",
       "text": [
        "\n",
        "n: 270    (2, array([ 1.97217226,  1.98845428,  1.96684118,  1.98975259]))"
       ]
      },
      {
       "output_type": "stream",
       "stream": "stdout",
       "text": [
        "\n",
        "n: 280    (2, array([ 1.97217226,  1.98845428,  1.96684118,  1.98975259]))"
       ]
      },
      {
       "output_type": "stream",
       "stream": "stdout",
       "text": [
        "\n",
        "n: 290    (2, array([ 1.97217226,  1.98845428,  1.96684118,  1.98975259]))"
       ]
      },
      {
       "output_type": "stream",
       "stream": "stdout",
       "text": [
        "\n",
        "n: 300    (2, array([ 1.97217226,  1.98845428,  1.96684118,  1.98975259]))"
       ]
      },
      {
       "output_type": "stream",
       "stream": "stdout",
       "text": [
        "\n",
        "n: 310    (2, array([ 1.97217226,  1.98845428,  1.96684118,  1.98975259]))"
       ]
      },
      {
       "output_type": "stream",
       "stream": "stdout",
       "text": [
        "\n",
        "n: 320    (2, array([ 1.97217226,  1.98845428,  1.96684118,  1.98975259]))"
       ]
      },
      {
       "output_type": "stream",
       "stream": "stdout",
       "text": [
        "\n",
        "n: 330    (2, array([ 1.97217226,  1.98845428,  1.96684118,  1.98975259]))"
       ]
      },
      {
       "output_type": "stream",
       "stream": "stdout",
       "text": [
        "\n",
        "n: 340    (2, array([ 1.97217226,  1.98845428,  1.96684118,  1.98975259]))"
       ]
      },
      {
       "output_type": "stream",
       "stream": "stdout",
       "text": [
        "\n",
        "n: 350    (2, array([ 1.97217226,  1.98845428,  1.96684118,  1.98975259]))"
       ]
      },
      {
       "output_type": "stream",
       "stream": "stdout",
       "text": [
        "\n",
        "n: 360    (2, array([ 1.97217226,  1.98845428,  1.96684118,  1.98975259]))"
       ]
      },
      {
       "output_type": "stream",
       "stream": "stdout",
       "text": [
        "\n",
        "n: 370    (2, array([ 1.97217226,  1.98845428,  1.96684118,  1.98975259]))"
       ]
      },
      {
       "output_type": "stream",
       "stream": "stdout",
       "text": [
        "\n",
        "n: 380    (2, array([ 1.97217226,  1.98845428,  1.96684118,  1.98975259]))"
       ]
      },
      {
       "output_type": "stream",
       "stream": "stdout",
       "text": [
        "\n",
        "n: 390    (2, array([ 1.97217226,  1.98845428,  1.96684118,  1.98975259]))"
       ]
      },
      {
       "output_type": "stream",
       "stream": "stdout",
       "text": [
        "\n",
        "n: 400    (2, array([ 1.97217226,  1.98845428,  1.96684118,  1.98975259]))"
       ]
      },
      {
       "output_type": "stream",
       "stream": "stdout",
       "text": [
        "\n",
        "n: 410    (2, array([ 1.97217226,  1.98845428,  1.96684118,  1.98975259]))"
       ]
      },
      {
       "output_type": "stream",
       "stream": "stdout",
       "text": [
        "\n",
        "n: 420    (2, array([ 1.97217226,  1.98845428,  1.96684118,  1.98975259]))"
       ]
      },
      {
       "output_type": "stream",
       "stream": "stdout",
       "text": [
        "\n",
        "n: 430    (2, array([ 1.97217226,  1.98845428,  1.96684118,  1.98975259]))"
       ]
      },
      {
       "output_type": "stream",
       "stream": "stdout",
       "text": [
        "\n",
        "n: 440    (2, array([ 1.97217226,  1.98845428,  1.96684118,  1.98975259]))"
       ]
      },
      {
       "output_type": "stream",
       "stream": "stdout",
       "text": [
        "\n",
        "n: 450    (2, array([ 1.97217226,  1.98845428,  1.96684118,  1.98975259]))"
       ]
      },
      {
       "output_type": "stream",
       "stream": "stdout",
       "text": [
        "\n",
        "n: 460    (2, array([ 1.97217226,  1.98845428,  1.96684118,  1.98975259]))"
       ]
      },
      {
       "output_type": "stream",
       "stream": "stdout",
       "text": [
        "\n",
        "n: 470    (2, array([ 1.97217226,  1.98845428,  1.96684118,  1.98975259]))"
       ]
      },
      {
       "output_type": "stream",
       "stream": "stdout",
       "text": [
        "\n",
        "n: 480    (2, array([ 1.97217226,  1.98845428,  1.96684118,  1.98975259]))"
       ]
      },
      {
       "output_type": "stream",
       "stream": "stdout",
       "text": [
        "\n",
        "n: 490    (2, array([ 1.97217226,  1.98845428,  1.96684118,  1.98975259]))"
       ]
      },
      {
       "output_type": "stream",
       "stream": "stdout",
       "text": [
        "\n",
        "CPU times: user 19min 20s, sys: 38.3 s, total: 19min 59s"
       ]
      },
      {
       "output_type": "stream",
       "stream": "stdout",
       "text": [
        "\n",
        "Wall time: 19min 53s\n",
        "n: 2    (0, array([ 2.,  2.,  2.,  2.]))"
       ]
      },
      {
       "output_type": "stream",
       "stream": "stdout",
       "text": [
        "\n",
        "n: 10    (0, array([ 2.,  2.,  2.,  2.]))"
       ]
      },
      {
       "output_type": "stream",
       "stream": "stdout",
       "text": [
        "\n",
        "n: 20    (0, array([ 2.,  2.,  2.,  2.]))"
       ]
      },
      {
       "output_type": "stream",
       "stream": "stdout",
       "text": [
        "\n",
        "n: 30    (0, array([ 2.,  2.,  2.,  2.]))"
       ]
      },
      {
       "output_type": "stream",
       "stream": "stdout",
       "text": [
        "\n",
        "n: 40    (0, array([ 2.,  2.,  2.,  2.]))"
       ]
      },
      {
       "output_type": "stream",
       "stream": "stdout",
       "text": [
        "\n",
        "n: 50    (0, array([ 2.,  2.,  2.,  2.]))"
       ]
      },
      {
       "output_type": "stream",
       "stream": "stdout",
       "text": [
        "\n",
        "n: 60    (0, array([ 2.,  2.,  2.,  2.]))"
       ]
      },
      {
       "output_type": "stream",
       "stream": "stdout",
       "text": [
        "\n",
        "n: 70    (0, array([ 2.,  2.,  2.,  2.]))"
       ]
      },
      {
       "output_type": "stream",
       "stream": "stdout",
       "text": [
        "\n",
        "n: 80    (0, array([ 2.,  2.,  2.,  2.]))"
       ]
      },
      {
       "output_type": "stream",
       "stream": "stdout",
       "text": [
        "\n",
        "n: 90    (0, array([ 2.,  2.,  2.,  2.]))"
       ]
      },
      {
       "output_type": "stream",
       "stream": "stdout",
       "text": [
        "\n",
        "n: 100    (0, array([ 2.,  2.,  2.,  2.]))"
       ]
      },
      {
       "output_type": "stream",
       "stream": "stdout",
       "text": [
        "\n",
        "n: 110    (0, array([ 2.,  2.,  2.,  2.]))"
       ]
      },
      {
       "output_type": "stream",
       "stream": "stdout",
       "text": [
        "\n",
        "n: 120    (0, array([ 2.,  2.,  2.,  2.]))"
       ]
      },
      {
       "output_type": "stream",
       "stream": "stdout",
       "text": [
        "\n",
        "n: 130    (0, array([ 2.,  2.,  2.,  2.]))"
       ]
      },
      {
       "output_type": "stream",
       "stream": "stdout",
       "text": [
        "\n",
        "n: 140    (0, array([ 2.,  2.,  2.,  2.]))"
       ]
      },
      {
       "output_type": "stream",
       "stream": "stdout",
       "text": [
        "\n",
        "n: 150    (0, array([ 2.,  2.,  2.,  2.]))"
       ]
      },
      {
       "output_type": "stream",
       "stream": "stdout",
       "text": [
        "\n",
        "n: 160    (0, array([ 2.,  2.,  2.,  2.]))"
       ]
      },
      {
       "output_type": "stream",
       "stream": "stdout",
       "text": [
        "\n",
        "n: 170    (0, array([ 2.,  2.,  2.,  2.]))"
       ]
      },
      {
       "output_type": "stream",
       "stream": "stdout",
       "text": [
        "\n",
        "n: 180    (0, array([ 2.,  2.,  2.,  2.]))"
       ]
      },
      {
       "output_type": "stream",
       "stream": "stdout",
       "text": [
        "\n",
        "n: 190    (0, array([ 2.,  2.,  2.,  2.]))"
       ]
      },
      {
       "output_type": "stream",
       "stream": "stdout",
       "text": [
        "\n",
        "n: 200    (0, array([ 2.,  2.,  2.,  2.]))"
       ]
      },
      {
       "output_type": "stream",
       "stream": "stdout",
       "text": [
        "\n",
        "n: 210    (0, array([ 2.,  2.,  2.,  2.]))"
       ]
      },
      {
       "output_type": "stream",
       "stream": "stdout",
       "text": [
        "\n",
        "n: 220    (0, array([ 2.,  2.,  2.,  2.]))"
       ]
      },
      {
       "output_type": "stream",
       "stream": "stdout",
       "text": [
        "\n",
        "n: 230    (0, array([ 2.,  2.,  2.,  2.]))"
       ]
      },
      {
       "output_type": "stream",
       "stream": "stdout",
       "text": [
        "\n",
        "n: 240    (0, array([ 2.,  2.,  2.,  2.]))"
       ]
      },
      {
       "output_type": "stream",
       "stream": "stdout",
       "text": [
        "\n",
        "n: 250    (0, array([ 2.,  2.,  2.,  2.]))"
       ]
      },
      {
       "output_type": "stream",
       "stream": "stdout",
       "text": [
        "\n",
        "n: 260    (0, array([ 2.,  2.,  2.,  2.]))"
       ]
      },
      {
       "output_type": "stream",
       "stream": "stdout",
       "text": [
        "\n",
        "n: 270    (0, array([ 2.,  2.,  2.,  2.]))"
       ]
      },
      {
       "output_type": "stream",
       "stream": "stdout",
       "text": [
        "\n",
        "n: 280    (0, array([ 2.,  2.,  2.,  2.]))"
       ]
      },
      {
       "output_type": "stream",
       "stream": "stdout",
       "text": [
        "\n",
        "n: 290    (0, array([ 2.,  2.,  2.,  2.]))"
       ]
      },
      {
       "output_type": "stream",
       "stream": "stdout",
       "text": [
        "\n",
        "n: 300    (0, array([ 2.,  2.,  2.,  2.]))"
       ]
      },
      {
       "output_type": "stream",
       "stream": "stdout",
       "text": [
        "\n",
        "n: 310    (0, array([ 2.,  2.,  2.,  2.]))"
       ]
      },
      {
       "output_type": "stream",
       "stream": "stdout",
       "text": [
        "\n",
        "n: 320    (0, array([ 2.,  2.,  2.,  2.]))"
       ]
      },
      {
       "output_type": "stream",
       "stream": "stdout",
       "text": [
        "\n",
        "n: 330    (0, array([ 2.,  2.,  2.,  2.]))"
       ]
      },
      {
       "output_type": "stream",
       "stream": "stdout",
       "text": [
        "\n",
        "n: 340    (0, array([ 2.,  2.,  2.,  2.]))"
       ]
      },
      {
       "output_type": "stream",
       "stream": "stdout",
       "text": [
        "\n",
        "n: 350    (0, array([ 2.,  2.,  2.,  2.]))"
       ]
      },
      {
       "output_type": "stream",
       "stream": "stdout",
       "text": [
        "\n",
        "n: 360    (0, array([ 2.,  2.,  2.,  2.]))"
       ]
      },
      {
       "output_type": "stream",
       "stream": "stdout",
       "text": [
        "\n",
        "n: 370    (0, array([ 2.,  2.,  2.,  2.]))"
       ]
      },
      {
       "output_type": "stream",
       "stream": "stdout",
       "text": [
        "\n",
        "n: 380    (0, array([ 2.,  2.,  2.,  2.]))"
       ]
      },
      {
       "output_type": "stream",
       "stream": "stdout",
       "text": [
        "\n",
        "n: 390    (0, array([ 2.,  2.,  2.,  2.]))"
       ]
      },
      {
       "output_type": "stream",
       "stream": "stdout",
       "text": [
        "\n",
        "n: 400    (0, array([ 2.,  2.,  2.,  2.]))"
       ]
      },
      {
       "output_type": "stream",
       "stream": "stdout",
       "text": [
        "\n",
        "n: 410    (0, array([ 2.,  2.,  2.,  2.]))"
       ]
      },
      {
       "output_type": "stream",
       "stream": "stdout",
       "text": [
        "\n",
        "n: 420    (0, array([ 2.,  2.,  2.,  2.]))"
       ]
      },
      {
       "output_type": "stream",
       "stream": "stdout",
       "text": [
        "\n",
        "n: 430    (0, array([ 2.,  2.,  2.,  2.]))"
       ]
      },
      {
       "output_type": "stream",
       "stream": "stdout",
       "text": [
        "\n",
        "n: 440    (0, array([ 2.,  2.,  2.,  2.]))"
       ]
      },
      {
       "output_type": "stream",
       "stream": "stdout",
       "text": [
        "\n",
        "n: 450    (0, array([ 2.,  2.,  2.,  2.]))"
       ]
      },
      {
       "output_type": "stream",
       "stream": "stdout",
       "text": [
        "\n",
        "n: 460    (0, array([ 2.,  2.,  2.,  2.]))"
       ]
      },
      {
       "output_type": "stream",
       "stream": "stdout",
       "text": [
        "\n",
        "n: 470    (0, array([ 2.,  2.,  2.,  2.]))"
       ]
      },
      {
       "output_type": "stream",
       "stream": "stdout",
       "text": [
        "\n",
        "n: 480    (0, array([ 2.,  2.,  2.,  2.]))"
       ]
      },
      {
       "output_type": "stream",
       "stream": "stdout",
       "text": [
        "\n",
        "n: 490    (0, array([ 2.,  2.,  2.,  2.]))"
       ]
      },
      {
       "output_type": "stream",
       "stream": "stdout",
       "text": [
        "\n",
        "CPU times: user 20min 20s, sys: 40.6 s, total: 21min 1s"
       ]
      },
      {
       "output_type": "stream",
       "stream": "stdout",
       "text": [
        "\n",
        "Wall time: 20min 54s\n",
        "n: 2    (0, array([ 1.85714286,  2.        ,  2.        ,  2.        ]))"
       ]
      },
      {
       "output_type": "stream",
       "stream": "stdout",
       "text": [
        "\n",
        "n: 10    (0, array([ 1.96551724,  1.98275862,  1.96551724,  2.        ]))"
       ]
      },
      {
       "output_type": "stream",
       "stream": "stdout",
       "text": [
        "\n",
        "n: 20    (0, array([ 1.97169811,  1.99056604,  1.97169811,  2.        ]))"
       ]
      },
      {
       "output_type": "stream",
       "stream": "stdout",
       "text": [
        "\n",
        "n: 30    (2, array([ 1.9691553 ,  1.98938665,  1.9624724 ,  1.99683028]))"
       ]
      },
      {
       "output_type": "stream",
       "stream": "stdout",
       "text": [
        "\n",
        "n: 40    (2, array([ 1.97323248,  1.99078956,  1.96743295,  1.99150214]))"
       ]
      },
      {
       "output_type": "stream",
       "stream": "stdout",
       "text": [
        "\n",
        "n: 50    (2, array([ 1.9717282 ,  1.98827004,  1.96631205,  1.98958906]))"
       ]
      },
      {
       "output_type": "stream",
       "stream": "stdout",
       "text": [
        "\n",
        "n: 60    (2, array([ 1.97217226,  1.98845428,  1.96684118,  1.98975259]))"
       ]
      },
      {
       "output_type": "stream",
       "stream": "stdout",
       "text": [
        "\n",
        "n: 70    (2, array([ 1.97217226,  1.98845428,  1.96684118,  1.98975259]))"
       ]
      },
      {
       "output_type": "stream",
       "stream": "stdout",
       "text": [
        "\n",
        "n: 80    (2, array([ 1.97217226,  1.98845428,  1.96684118,  1.98975259]))"
       ]
      },
      {
       "output_type": "stream",
       "stream": "stdout",
       "text": [
        "\n",
        "n: 90    (2, array([ 1.97217226,  1.98845428,  1.96684118,  1.98975259]))"
       ]
      },
      {
       "output_type": "stream",
       "stream": "stdout",
       "text": [
        "\n",
        "n: 100    (2, array([ 1.97217226,  1.98845428,  1.96684118,  1.98975259]))"
       ]
      },
      {
       "output_type": "stream",
       "stream": "stdout",
       "text": [
        "\n",
        "n: 110    (2, array([ 1.97217226,  1.98845428,  1.96684118,  1.98975259]))"
       ]
      },
      {
       "output_type": "stream",
       "stream": "stdout",
       "text": [
        "\n",
        "n: 120    (2, array([ 1.97217226,  1.98845428,  1.96684118,  1.98975259]))"
       ]
      },
      {
       "output_type": "stream",
       "stream": "stdout",
       "text": [
        "\n",
        "n: 130    (2, array([ 1.97217226,  1.98845428,  1.96684118,  1.98975259]))"
       ]
      },
      {
       "output_type": "stream",
       "stream": "stdout",
       "text": [
        "\n",
        "n: 140    (2, array([ 1.97217226,  1.98845428,  1.96684118,  1.98975259]))"
       ]
      },
      {
       "output_type": "stream",
       "stream": "stdout",
       "text": [
        "\n",
        "n: 150    (2, array([ 1.97217226,  1.98845428,  1.96684118,  1.98975259]))"
       ]
      },
      {
       "output_type": "stream",
       "stream": "stdout",
       "text": [
        "\n",
        "n: 160    (2, array([ 1.97217226,  1.98845428,  1.96684118,  1.98975259]))"
       ]
      },
      {
       "output_type": "stream",
       "stream": "stdout",
       "text": [
        "\n",
        "n: 170    (2, array([ 1.97217226,  1.98845428,  1.96684118,  1.98975259]))"
       ]
      },
      {
       "output_type": "stream",
       "stream": "stdout",
       "text": [
        "\n",
        "n: 180    (2, array([ 1.97217226,  1.98845428,  1.96684118,  1.98975259]))"
       ]
      },
      {
       "output_type": "stream",
       "stream": "stdout",
       "text": [
        "\n",
        "n: 190    (2, array([ 1.97217226,  1.98845428,  1.96684118,  1.98975259]))"
       ]
      },
      {
       "output_type": "stream",
       "stream": "stdout",
       "text": [
        "\n",
        "n: 200    (2, array([ 1.97217226,  1.98845428,  1.96684118,  1.98975259]))"
       ]
      },
      {
       "output_type": "stream",
       "stream": "stdout",
       "text": [
        "\n",
        "n: 210    (2, array([ 1.97217226,  1.98845428,  1.96684118,  1.98975259]))"
       ]
      },
      {
       "output_type": "stream",
       "stream": "stdout",
       "text": [
        "\n",
        "n: 220    (2, array([ 1.97217226,  1.98845428,  1.96684118,  1.98975259]))"
       ]
      },
      {
       "output_type": "stream",
       "stream": "stdout",
       "text": [
        "\n",
        "n: 230    (2, array([ 1.97217226,  1.98845428,  1.96684118,  1.98975259]))"
       ]
      },
      {
       "output_type": "stream",
       "stream": "stdout",
       "text": [
        "\n",
        "n: 240    (2, array([ 1.97217226,  1.98845428,  1.96684118,  1.98975259]))"
       ]
      },
      {
       "output_type": "stream",
       "stream": "stdout",
       "text": [
        "\n",
        "n: 250    (2, array([ 1.97217226,  1.98845428,  1.96684118,  1.98975259]))"
       ]
      },
      {
       "output_type": "stream",
       "stream": "stdout",
       "text": [
        "\n",
        "n: 260    (2, array([ 1.97217226,  1.98845428,  1.96684118,  1.98975259]))"
       ]
      },
      {
       "output_type": "stream",
       "stream": "stdout",
       "text": [
        "\n",
        "n: 270    (2, array([ 1.97217226,  1.98845428,  1.96684118,  1.98975259]))"
       ]
      },
      {
       "output_type": "stream",
       "stream": "stdout",
       "text": [
        "\n",
        "n: 280    (2, array([ 1.97217226,  1.98845428,  1.96684118,  1.98975259]))"
       ]
      },
      {
       "output_type": "stream",
       "stream": "stdout",
       "text": [
        "\n",
        "n: 290    (2, array([ 1.97217226,  1.98845428,  1.96684118,  1.98975259]))"
       ]
      },
      {
       "output_type": "stream",
       "stream": "stdout",
       "text": [
        "\n",
        "n: 300    (2, array([ 1.97217226,  1.98845428,  1.96684118,  1.98975259]))"
       ]
      },
      {
       "output_type": "stream",
       "stream": "stdout",
       "text": [
        "\n",
        "n: 310    (2, array([ 1.97217226,  1.98845428,  1.96684118,  1.98975259]))"
       ]
      },
      {
       "output_type": "stream",
       "stream": "stdout",
       "text": [
        "\n",
        "n: 320    (2, array([ 1.97217226,  1.98845428,  1.96684118,  1.98975259]))"
       ]
      },
      {
       "output_type": "stream",
       "stream": "stdout",
       "text": [
        "\n",
        "n: 330    (2, array([ 1.97217226,  1.98845428,  1.96684118,  1.98975259]))"
       ]
      },
      {
       "output_type": "stream",
       "stream": "stdout",
       "text": [
        "\n",
        "n: 340    (2, array([ 1.97217226,  1.98845428,  1.96684118,  1.98975259]))"
       ]
      },
      {
       "output_type": "stream",
       "stream": "stdout",
       "text": [
        "\n",
        "n: 350    (2, array([ 1.97217226,  1.98845428,  1.96684118,  1.98975259]))"
       ]
      },
      {
       "output_type": "stream",
       "stream": "stdout",
       "text": [
        "\n",
        "n: 360    (2, array([ 1.97217226,  1.98845428,  1.96684118,  1.98975259]))"
       ]
      },
      {
       "output_type": "stream",
       "stream": "stdout",
       "text": [
        "\n",
        "n: 370    (2, array([ 1.97217226,  1.98845428,  1.96684118,  1.98975259]))"
       ]
      },
      {
       "output_type": "stream",
       "stream": "stdout",
       "text": [
        "\n",
        "n: 380    (2, array([ 1.97217226,  1.98845428,  1.96684118,  1.98975259]))"
       ]
      },
      {
       "output_type": "stream",
       "stream": "stdout",
       "text": [
        "\n",
        "n: 390    (2, array([ 1.97217226,  1.98845428,  1.96684118,  1.98975259]))"
       ]
      },
      {
       "output_type": "stream",
       "stream": "stdout",
       "text": [
        "\n",
        "n: 400    (2, array([ 1.97217226,  1.98845428,  1.96684118,  1.98975259]))"
       ]
      },
      {
       "output_type": "stream",
       "stream": "stdout",
       "text": [
        "\n",
        "n: 410    (2, array([ 1.97217226,  1.98845428,  1.96684118,  1.98975259]))"
       ]
      },
      {
       "output_type": "stream",
       "stream": "stdout",
       "text": [
        "\n",
        "n: 420    (2, array([ 1.97217226,  1.98845428,  1.96684118,  1.98975259]))"
       ]
      },
      {
       "output_type": "stream",
       "stream": "stdout",
       "text": [
        "\n",
        "n: 430    (2, array([ 1.97217226,  1.98845428,  1.96684118,  1.98975259]))"
       ]
      },
      {
       "output_type": "stream",
       "stream": "stdout",
       "text": [
        "\n",
        "n: 440    (2, array([ 1.97217226,  1.98845428,  1.96684118,  1.98975259]))"
       ]
      },
      {
       "output_type": "stream",
       "stream": "stdout",
       "text": [
        "\n",
        "n: 450    (2, array([ 1.97217226,  1.98845428,  1.96684118,  1.98975259]))"
       ]
      },
      {
       "output_type": "stream",
       "stream": "stdout",
       "text": [
        "\n",
        "n: 460    (2, array([ 1.97217226,  1.98845428,  1.96684118,  1.98975259]))"
       ]
      },
      {
       "output_type": "stream",
       "stream": "stdout",
       "text": [
        "\n",
        "n: 470    (2, array([ 1.97217226,  1.98845428,  1.96684118,  1.98975259]))"
       ]
      },
      {
       "output_type": "stream",
       "stream": "stdout",
       "text": [
        "\n",
        "n: 480    (2, array([ 1.97217226,  1.98845428,  1.96684118,  1.98975259]))"
       ]
      },
      {
       "output_type": "stream",
       "stream": "stdout",
       "text": [
        "\n",
        "n: 490    (2, array([ 1.97217226,  1.98845428,  1.96684118,  1.98975259]))"
       ]
      },
      {
       "output_type": "stream",
       "stream": "stdout",
       "text": [
        "\n",
        "CPU times: user 20min 10s, sys: 39.7 s, total: 20min 50s\n",
        "Wall time: 20min 46s\n",
        "n: 2    (0, array([ 1.85714286,  2.        ,  2.        ,  2.        ]))"
       ]
      },
      {
       "output_type": "stream",
       "stream": "stdout",
       "text": [
        "\n",
        "n: 10    (0, array([ 1.96551724,  1.98275862,  1.96551724,  2.        ]))"
       ]
      },
      {
       "output_type": "stream",
       "stream": "stdout",
       "text": [
        "\n",
        "n: 20    (0, array([ 1.97169811,  1.99056604,  1.97169811,  2.        ]))"
       ]
      },
      {
       "output_type": "stream",
       "stream": "stdout",
       "text": [
        "\n",
        "n: 30    (2, array([ 1.97350993,  1.99337748,  1.96688742,  2.        ]))"
       ]
      },
      {
       "output_type": "stream",
       "stream": "stdout",
       "text": [
        "\n",
        "n: 40    (2, array([ 1.97701149,  1.99425287,  1.97126437,  1.99425287]))"
       ]
      },
      {
       "output_type": "stream",
       "stream": "stdout",
       "text": [
        "\n",
        "n: 50    (2, array([ 1.9787234 ,  1.99468085,  1.97340426,  1.99468085]))"
       ]
      },
      {
       "output_type": "stream",
       "stream": "stdout",
       "text": [
        "\n",
        "n: 60    (2, array([ 1.97905759,  1.9947644 ,  1.97382199,  1.9947644 ]))"
       ]
      },
      {
       "output_type": "stream",
       "stream": "stdout",
       "text": [
        "\n",
        "n: 70    (2, array([ 1.97905759,  1.9947644 ,  1.97382199,  1.9947644 ]))"
       ]
      },
      {
       "output_type": "stream",
       "stream": "stdout",
       "text": [
        "\n",
        "n: 80    (2, array([ 1.97905759,  1.9947644 ,  1.97382199,  1.9947644 ]))"
       ]
      },
      {
       "output_type": "stream",
       "stream": "stdout",
       "text": [
        "\n",
        "n: 90    (2, array([ 1.97905759,  1.9947644 ,  1.97382199,  1.9947644 ]))"
       ]
      },
      {
       "output_type": "stream",
       "stream": "stdout",
       "text": [
        "\n",
        "n: 100    (2, array([ 1.97905759,  1.9947644 ,  1.97382199,  1.9947644 ]))"
       ]
      },
      {
       "output_type": "stream",
       "stream": "stdout",
       "text": [
        "\n",
        "n: 110    (2, array([ 1.97905759,  1.9947644 ,  1.97382199,  1.9947644 ]))"
       ]
      },
      {
       "output_type": "stream",
       "stream": "stdout",
       "text": [
        "\n",
        "n: 120    (2, array([ 1.97905759,  1.9947644 ,  1.97382199,  1.9947644 ]))"
       ]
      },
      {
       "output_type": "stream",
       "stream": "stdout",
       "text": [
        "\n",
        "n: 130    (2, array([ 1.97905759,  1.9947644 ,  1.97382199,  1.9947644 ]))"
       ]
      },
      {
       "output_type": "stream",
       "stream": "stdout",
       "text": [
        "\n",
        "n: 140    (2, array([ 1.97905759,  1.9947644 ,  1.97382199,  1.9947644 ]))"
       ]
      },
      {
       "output_type": "stream",
       "stream": "stdout",
       "text": [
        "\n",
        "n: 150    (2, array([ 1.97905759,  1.9947644 ,  1.97382199,  1.9947644 ]))"
       ]
      },
      {
       "output_type": "stream",
       "stream": "stdout",
       "text": [
        "\n",
        "n: 160    (2, array([ 1.97905759,  1.9947644 ,  1.97382199,  1.9947644 ]))"
       ]
      },
      {
       "output_type": "stream",
       "stream": "stdout",
       "text": [
        "\n",
        "n: 170    (2, array([ 1.97905759,  1.9947644 ,  1.97382199,  1.9947644 ]))"
       ]
      },
      {
       "output_type": "stream",
       "stream": "stdout",
       "text": [
        "\n",
        "n: 180    (2, array([ 1.97905759,  1.9947644 ,  1.97382199,  1.9947644 ]))"
       ]
      },
      {
       "output_type": "stream",
       "stream": "stdout",
       "text": [
        "\n",
        "n: 190    (2, array([ 1.97905759,  1.9947644 ,  1.97382199,  1.9947644 ]))"
       ]
      },
      {
       "output_type": "stream",
       "stream": "stdout",
       "text": [
        "\n",
        "n: 200    (2, array([ 1.97905759,  1.9947644 ,  1.97382199,  1.9947644 ]))"
       ]
      },
      {
       "output_type": "stream",
       "stream": "stdout",
       "text": [
        "\n",
        "n: 210    (2, array([ 1.97905759,  1.9947644 ,  1.97382199,  1.9947644 ]))"
       ]
      },
      {
       "output_type": "stream",
       "stream": "stdout",
       "text": [
        "\n",
        "n: 220    (2, array([ 1.97905759,  1.9947644 ,  1.97382199,  1.9947644 ]))"
       ]
      },
      {
       "output_type": "stream",
       "stream": "stdout",
       "text": [
        "\n",
        "n: 230    (2, array([ 1.97905759,  1.9947644 ,  1.97382199,  1.9947644 ]))"
       ]
      },
      {
       "output_type": "stream",
       "stream": "stdout",
       "text": [
        "\n",
        "n: 240    (2, array([ 1.97905759,  1.9947644 ,  1.97382199,  1.9947644 ]))"
       ]
      },
      {
       "output_type": "stream",
       "stream": "stdout",
       "text": [
        "\n",
        "n: 250    (2, array([ 1.97905759,  1.9947644 ,  1.97382199,  1.9947644 ]))"
       ]
      },
      {
       "output_type": "stream",
       "stream": "stdout",
       "text": [
        "\n",
        "n: 260    (2, array([ 1.97905759,  1.9947644 ,  1.97382199,  1.9947644 ]))"
       ]
      },
      {
       "output_type": "stream",
       "stream": "stdout",
       "text": [
        "\n",
        "n: 270    (2, array([ 1.97905759,  1.9947644 ,  1.97382199,  1.9947644 ]))"
       ]
      },
      {
       "output_type": "stream",
       "stream": "stdout",
       "text": [
        "\n",
        "n: 280    (2, array([ 1.97905759,  1.9947644 ,  1.97382199,  1.9947644 ]))"
       ]
      },
      {
       "output_type": "stream",
       "stream": "stdout",
       "text": [
        "\n",
        "n: 290    (2, array([ 1.97905759,  1.9947644 ,  1.97382199,  1.9947644 ]))"
       ]
      },
      {
       "output_type": "stream",
       "stream": "stdout",
       "text": [
        "\n",
        "n: 300    (2, array([ 1.97905759,  1.9947644 ,  1.97382199,  1.9947644 ]))"
       ]
      },
      {
       "output_type": "stream",
       "stream": "stdout",
       "text": [
        "\n",
        "n: 310    (2, array([ 1.97905759,  1.9947644 ,  1.97382199,  1.9947644 ]))"
       ]
      },
      {
       "output_type": "stream",
       "stream": "stdout",
       "text": [
        "\n",
        "n: 320    (2, array([ 1.97905759,  1.9947644 ,  1.97382199,  1.9947644 ]))"
       ]
      },
      {
       "output_type": "stream",
       "stream": "stdout",
       "text": [
        "\n",
        "n: 330    (2, array([ 1.97905759,  1.9947644 ,  1.97382199,  1.9947644 ]))"
       ]
      },
      {
       "output_type": "stream",
       "stream": "stdout",
       "text": [
        "\n",
        "n: 340    (2, array([ 1.97905759,  1.9947644 ,  1.97382199,  1.9947644 ]))"
       ]
      },
      {
       "output_type": "stream",
       "stream": "stdout",
       "text": [
        "\n",
        "n: 350    (2, array([ 1.97905759,  1.9947644 ,  1.97382199,  1.9947644 ]))"
       ]
      },
      {
       "output_type": "stream",
       "stream": "stdout",
       "text": [
        "\n",
        "n: 360    (2, array([ 1.97905759,  1.9947644 ,  1.97382199,  1.9947644 ]))"
       ]
      },
      {
       "output_type": "stream",
       "stream": "stdout",
       "text": [
        "\n",
        "n: 370    (2, array([ 1.97905759,  1.9947644 ,  1.97382199,  1.9947644 ]))"
       ]
      },
      {
       "output_type": "stream",
       "stream": "stdout",
       "text": [
        "\n",
        "n: 380    (2, array([ 1.97905759,  1.9947644 ,  1.97382199,  1.9947644 ]))"
       ]
      },
      {
       "output_type": "stream",
       "stream": "stdout",
       "text": [
        "\n",
        "n: 390    (2, array([ 1.97905759,  1.9947644 ,  1.97382199,  1.9947644 ]))"
       ]
      },
      {
       "output_type": "stream",
       "stream": "stdout",
       "text": [
        "\n",
        "n: 400    (2, array([ 1.97905759,  1.9947644 ,  1.97382199,  1.9947644 ]))"
       ]
      },
      {
       "output_type": "stream",
       "stream": "stdout",
       "text": [
        "\n",
        "n: 410    (2, array([ 1.97905759,  1.9947644 ,  1.97382199,  1.9947644 ]))"
       ]
      },
      {
       "output_type": "stream",
       "stream": "stdout",
       "text": [
        "\n",
        "n: 420    (2, array([ 1.97905759,  1.9947644 ,  1.97382199,  1.9947644 ]))"
       ]
      },
      {
       "output_type": "stream",
       "stream": "stdout",
       "text": [
        "\n",
        "n: 430    (2, array([ 1.97905759,  1.9947644 ,  1.97382199,  1.9947644 ]))"
       ]
      },
      {
       "output_type": "stream",
       "stream": "stdout",
       "text": [
        "\n",
        "n: 440    (2, array([ 1.97905759,  1.9947644 ,  1.97382199,  1.9947644 ]))"
       ]
      },
      {
       "output_type": "stream",
       "stream": "stdout",
       "text": [
        "\n",
        "n: 450    (2, array([ 1.97905759,  1.9947644 ,  1.97382199,  1.9947644 ]))"
       ]
      },
      {
       "output_type": "stream",
       "stream": "stdout",
       "text": [
        "\n",
        "n: 460    (2, array([ 1.97905759,  1.9947644 ,  1.97382199,  1.9947644 ]))"
       ]
      },
      {
       "output_type": "stream",
       "stream": "stdout",
       "text": [
        "\n",
        "n: 470    (2, array([ 1.97905759,  1.9947644 ,  1.97382199,  1.9947644 ]))"
       ]
      },
      {
       "output_type": "stream",
       "stream": "stdout",
       "text": [
        "\n",
        "n: 480    (2, array([ 1.97905759,  1.9947644 ,  1.97382199,  1.9947644 ]))"
       ]
      },
      {
       "output_type": "stream",
       "stream": "stdout",
       "text": [
        "\n",
        "n: 490    (2, array([ 1.97905759,  1.9947644 ,  1.97382199,  1.9947644 ]))"
       ]
      },
      {
       "output_type": "stream",
       "stream": "stdout",
       "text": [
        "\n",
        "CPU times: user 19min 23s, sys: 37.4 s, total: 20min\n",
        "Wall time: 19min 56s\n",
        "n: 2    (0, array([ 2.,  2.,  2.,  2.]))"
       ]
      },
      {
       "output_type": "stream",
       "stream": "stdout",
       "text": [
        "\n",
        "n: 10    (0, array([ 2.,  2.,  2.,  2.]))"
       ]
      },
      {
       "output_type": "stream",
       "stream": "stdout",
       "text": [
        "\n",
        "n: 20    (0, array([ 2.,  2.,  2.,  2.]))"
       ]
      },
      {
       "output_type": "stream",
       "stream": "stdout",
       "text": [
        "\n",
        "n: 30    (0, array([ 2.,  2.,  2.,  2.]))"
       ]
      },
      {
       "output_type": "stream",
       "stream": "stdout",
       "text": [
        "\n",
        "n: 40    (0, array([ 2.,  2.,  2.,  2.]))"
       ]
      },
      {
       "output_type": "stream",
       "stream": "stdout",
       "text": [
        "\n",
        "n: 50    (0, array([ 2.,  2.,  2.,  2.]))"
       ]
      },
      {
       "output_type": "stream",
       "stream": "stdout",
       "text": [
        "\n",
        "n: 60    (0, array([ 2.,  2.,  2.,  2.]))"
       ]
      },
      {
       "output_type": "stream",
       "stream": "stdout",
       "text": [
        "\n",
        "n: 70    (0, array([ 2.,  2.,  2.,  2.]))"
       ]
      },
      {
       "output_type": "stream",
       "stream": "stdout",
       "text": [
        "\n",
        "n: 80    (0, array([ 2.,  2.,  2.,  2.]))"
       ]
      },
      {
       "output_type": "stream",
       "stream": "stdout",
       "text": [
        "\n",
        "n: 90    (0, array([ 2.,  2.,  2.,  2.]))"
       ]
      },
      {
       "output_type": "stream",
       "stream": "stdout",
       "text": [
        "\n",
        "n: 100    (0, array([ 2.,  2.,  2.,  2.]))"
       ]
      },
      {
       "output_type": "stream",
       "stream": "stdout",
       "text": [
        "\n",
        "n: 110    (0, array([ 2.,  2.,  2.,  2.]))"
       ]
      },
      {
       "output_type": "stream",
       "stream": "stdout",
       "text": [
        "\n",
        "n: 120    (0, array([ 2.,  2.,  2.,  2.]))"
       ]
      },
      {
       "output_type": "stream",
       "stream": "stdout",
       "text": [
        "\n",
        "n: 130    (0, array([ 2.,  2.,  2.,  2.]))"
       ]
      },
      {
       "output_type": "stream",
       "stream": "stdout",
       "text": [
        "\n",
        "n: 140    (0, array([ 2.,  2.,  2.,  2.]))"
       ]
      },
      {
       "output_type": "stream",
       "stream": "stdout",
       "text": [
        "\n",
        "n: 150    (0, array([ 2.,  2.,  2.,  2.]))"
       ]
      },
      {
       "output_type": "stream",
       "stream": "stdout",
       "text": [
        "\n",
        "n: 160    (0, array([ 2.,  2.,  2.,  2.]))"
       ]
      },
      {
       "output_type": "stream",
       "stream": "stdout",
       "text": [
        "\n",
        "n: 170    (0, array([ 2.,  2.,  2.,  2.]))"
       ]
      },
      {
       "output_type": "stream",
       "stream": "stdout",
       "text": [
        "\n",
        "n: 180    (0, array([ 2.,  2.,  2.,  2.]))"
       ]
      },
      {
       "output_type": "stream",
       "stream": "stdout",
       "text": [
        "\n",
        "n: 190    (0, array([ 2.,  2.,  2.,  2.]))"
       ]
      },
      {
       "output_type": "stream",
       "stream": "stdout",
       "text": [
        "\n",
        "n: 200    (0, array([ 2.,  2.,  2.,  2.]))"
       ]
      },
      {
       "output_type": "stream",
       "stream": "stdout",
       "text": [
        "\n",
        "n: 210    (0, array([ 2.,  2.,  2.,  2.]))"
       ]
      },
      {
       "output_type": "stream",
       "stream": "stdout",
       "text": [
        "\n",
        "n: 220    (0, array([ 2.,  2.,  2.,  2.]))"
       ]
      },
      {
       "output_type": "stream",
       "stream": "stdout",
       "text": [
        "\n",
        "n: 230    (0, array([ 2.,  2.,  2.,  2.]))"
       ]
      },
      {
       "output_type": "stream",
       "stream": "stdout",
       "text": [
        "\n",
        "n: 240    (0, array([ 2.,  2.,  2.,  2.]))"
       ]
      },
      {
       "output_type": "stream",
       "stream": "stdout",
       "text": [
        "\n",
        "n: 250    (0, array([ 2.,  2.,  2.,  2.]))"
       ]
      },
      {
       "output_type": "stream",
       "stream": "stdout",
       "text": [
        "\n",
        "n: 260    (0, array([ 2.,  2.,  2.,  2.]))"
       ]
      },
      {
       "output_type": "stream",
       "stream": "stdout",
       "text": [
        "\n",
        "n: 270    (0, array([ 2.,  2.,  2.,  2.]))"
       ]
      },
      {
       "output_type": "stream",
       "stream": "stdout",
       "text": [
        "\n",
        "n: 280    (0, array([ 2.,  2.,  2.,  2.]))"
       ]
      },
      {
       "output_type": "stream",
       "stream": "stdout",
       "text": [
        "\n",
        "n: 290    (0, array([ 2.,  2.,  2.,  2.]))"
       ]
      },
      {
       "output_type": "stream",
       "stream": "stdout",
       "text": [
        "\n",
        "n: 300    (0, array([ 2.,  2.,  2.,  2.]))"
       ]
      },
      {
       "output_type": "stream",
       "stream": "stdout",
       "text": [
        "\n",
        "n: 310    (0, array([ 2.,  2.,  2.,  2.]))"
       ]
      },
      {
       "output_type": "stream",
       "stream": "stdout",
       "text": [
        "\n",
        "n: 320    (0, array([ 2.,  2.,  2.,  2.]))"
       ]
      },
      {
       "output_type": "stream",
       "stream": "stdout",
       "text": [
        "\n",
        "n: 330    (0, array([ 2.,  2.,  2.,  2.]))"
       ]
      },
      {
       "output_type": "stream",
       "stream": "stdout",
       "text": [
        "\n",
        "n: 340    (0, array([ 2.,  2.,  2.,  2.]))"
       ]
      },
      {
       "output_type": "stream",
       "stream": "stdout",
       "text": [
        "\n",
        "n: 350    (0, array([ 2.,  2.,  2.,  2.]))"
       ]
      },
      {
       "output_type": "stream",
       "stream": "stdout",
       "text": [
        "\n",
        "n: 360    (0, array([ 2.,  2.,  2.,  2.]))"
       ]
      },
      {
       "output_type": "stream",
       "stream": "stdout",
       "text": [
        "\n",
        "n: 370    (0, array([ 2.,  2.,  2.,  2.]))"
       ]
      },
      {
       "output_type": "stream",
       "stream": "stdout",
       "text": [
        "\n",
        "n: 380    (0, array([ 2.,  2.,  2.,  2.]))"
       ]
      },
      {
       "output_type": "stream",
       "stream": "stdout",
       "text": [
        "\n",
        "n: 390    (0, array([ 2.,  2.,  2.,  2.]))"
       ]
      },
      {
       "output_type": "stream",
       "stream": "stdout",
       "text": [
        "\n",
        "n: 400    (0, array([ 2.,  2.,  2.,  2.]))"
       ]
      },
      {
       "output_type": "stream",
       "stream": "stdout",
       "text": [
        "\n",
        "n: 410    (0, array([ 2.,  2.,  2.,  2.]))"
       ]
      },
      {
       "output_type": "stream",
       "stream": "stdout",
       "text": [
        "\n",
        "n: 420    (0, array([ 2.,  2.,  2.,  2.]))"
       ]
      },
      {
       "output_type": "stream",
       "stream": "stdout",
       "text": [
        "\n",
        "n: 430    (0, array([ 2.,  2.,  2.,  2.]))"
       ]
      },
      {
       "output_type": "stream",
       "stream": "stdout",
       "text": [
        "\n",
        "n: 440    (0, array([ 2.,  2.,  2.,  2.]))"
       ]
      },
      {
       "output_type": "stream",
       "stream": "stdout",
       "text": [
        "\n",
        "n: 450    (0, array([ 2.,  2.,  2.,  2.]))"
       ]
      },
      {
       "output_type": "stream",
       "stream": "stdout",
       "text": [
        "\n",
        "n: 460    (0, array([ 2.,  2.,  2.,  2.]))"
       ]
      },
      {
       "output_type": "stream",
       "stream": "stdout",
       "text": [
        "\n",
        "n: 470    (0, array([ 2.,  2.,  2.,  2.]))"
       ]
      },
      {
       "output_type": "stream",
       "stream": "stdout",
       "text": [
        "\n",
        "n: 480    (0, array([ 2.,  2.,  2.,  2.]))"
       ]
      },
      {
       "output_type": "stream",
       "stream": "stdout",
       "text": [
        "\n",
        "n: 490    (0, array([ 2.,  2.,  2.,  2.]))"
       ]
      },
      {
       "output_type": "stream",
       "stream": "stdout",
       "text": [
        "\n",
        "CPU times: user 20min 8s, sys: 40.8 s, total: 20min 49s"
       ]
      },
      {
       "output_type": "stream",
       "stream": "stdout",
       "text": [
        "\n",
        "Wall time: 20min 42s\n",
        "n: 2    (0, array([ 1.85714286,  2.        ,  2.        ,  2.        ]))"
       ]
      },
      {
       "output_type": "stream",
       "stream": "stdout",
       "text": [
        "\n",
        "n: 10    (0, array([ 1.96551724,  1.98275862,  1.96551724,  2.        ]))"
       ]
      },
      {
       "output_type": "stream",
       "stream": "stdout",
       "text": [
        "\n",
        "n: 20    (0, array([ 1.97169811,  1.99056604,  1.97169811,  2.        ]))"
       ]
      },
      {
       "output_type": "stream",
       "stream": "stdout",
       "text": [
        "\n",
        "n: 30    (2, array([ 1.97350993,  1.99337748,  1.96688742,  2.        ]))"
       ]
      },
      {
       "output_type": "stream",
       "stream": "stdout",
       "text": [
        "\n",
        "n: 40    (2, array([ 1.97701149,  1.99425287,  1.97126437,  1.99425287]))"
       ]
      },
      {
       "output_type": "stream",
       "stream": "stdout",
       "text": [
        "\n",
        "n: 50    (2, array([ 1.9787234 ,  1.99468085,  1.97340426,  1.99468085]))"
       ]
      },
      {
       "output_type": "stream",
       "stream": "stdout",
       "text": [
        "\n",
        "n: 60    (2, array([ 1.97905759,  1.9947644 ,  1.97382199,  1.9947644 ]))"
       ]
      },
      {
       "output_type": "stream",
       "stream": "stdout",
       "text": [
        "\n",
        "n: 70    (2, array([ 1.97905759,  1.9947644 ,  1.97382199,  1.9947644 ]))"
       ]
      },
      {
       "output_type": "stream",
       "stream": "stdout",
       "text": [
        "\n",
        "n: 80    (2, array([ 1.97905759,  1.9947644 ,  1.97382199,  1.9947644 ]))"
       ]
      },
      {
       "output_type": "stream",
       "stream": "stdout",
       "text": [
        "\n",
        "n: 90    (2, array([ 1.97905759,  1.9947644 ,  1.97382199,  1.9947644 ]))"
       ]
      },
      {
       "output_type": "stream",
       "stream": "stdout",
       "text": [
        "\n",
        "n: 100    (2, array([ 1.97905759,  1.9947644 ,  1.97382199,  1.9947644 ]))"
       ]
      },
      {
       "output_type": "stream",
       "stream": "stdout",
       "text": [
        "\n",
        "n: 110    (2, array([ 1.97905759,  1.9947644 ,  1.97382199,  1.9947644 ]))"
       ]
      },
      {
       "output_type": "stream",
       "stream": "stdout",
       "text": [
        "\n",
        "n: 120    (2, array([ 1.97905759,  1.9947644 ,  1.97382199,  1.9947644 ]))"
       ]
      },
      {
       "output_type": "stream",
       "stream": "stdout",
       "text": [
        "\n",
        "n: 130    (2, array([ 1.97905759,  1.9947644 ,  1.97382199,  1.9947644 ]))"
       ]
      },
      {
       "output_type": "stream",
       "stream": "stdout",
       "text": [
        "\n",
        "n: 140    (2, array([ 1.97905759,  1.9947644 ,  1.97382199,  1.9947644 ]))"
       ]
      },
      {
       "output_type": "stream",
       "stream": "stdout",
       "text": [
        "\n",
        "n: 150    (2, array([ 1.97905759,  1.9947644 ,  1.97382199,  1.9947644 ]))"
       ]
      },
      {
       "output_type": "stream",
       "stream": "stdout",
       "text": [
        "\n",
        "n: 160    (2, array([ 1.97905759,  1.9947644 ,  1.97382199,  1.9947644 ]))"
       ]
      },
      {
       "output_type": "stream",
       "stream": "stdout",
       "text": [
        "\n",
        "n: 170    (2, array([ 1.97905759,  1.9947644 ,  1.97382199,  1.9947644 ]))"
       ]
      },
      {
       "output_type": "stream",
       "stream": "stdout",
       "text": [
        "\n",
        "n: 180    (2, array([ 1.97905759,  1.9947644 ,  1.97382199,  1.9947644 ]))"
       ]
      },
      {
       "output_type": "stream",
       "stream": "stdout",
       "text": [
        "\n",
        "n: 190    (2, array([ 1.97905759,  1.9947644 ,  1.97382199,  1.9947644 ]))"
       ]
      },
      {
       "output_type": "stream",
       "stream": "stdout",
       "text": [
        "\n",
        "n: 200    (2, array([ 1.97905759,  1.9947644 ,  1.97382199,  1.9947644 ]))"
       ]
      },
      {
       "output_type": "stream",
       "stream": "stdout",
       "text": [
        "\n",
        "n: 210    (2, array([ 1.97905759,  1.9947644 ,  1.97382199,  1.9947644 ]))"
       ]
      },
      {
       "output_type": "stream",
       "stream": "stdout",
       "text": [
        "\n",
        "n: 220    (2, array([ 1.97905759,  1.9947644 ,  1.97382199,  1.9947644 ]))"
       ]
      },
      {
       "output_type": "stream",
       "stream": "stdout",
       "text": [
        "\n",
        "n: 230    (2, array([ 1.97905759,  1.9947644 ,  1.97382199,  1.9947644 ]))"
       ]
      },
      {
       "output_type": "stream",
       "stream": "stdout",
       "text": [
        "\n",
        "n: 240    (2, array([ 1.97905759,  1.9947644 ,  1.97382199,  1.9947644 ]))"
       ]
      },
      {
       "output_type": "stream",
       "stream": "stdout",
       "text": [
        "\n",
        "n: 250    (2, array([ 1.97905759,  1.9947644 ,  1.97382199,  1.9947644 ]))"
       ]
      },
      {
       "output_type": "stream",
       "stream": "stdout",
       "text": [
        "\n",
        "n: 260    (2, array([ 1.97905759,  1.9947644 ,  1.97382199,  1.9947644 ]))"
       ]
      },
      {
       "output_type": "stream",
       "stream": "stdout",
       "text": [
        "\n",
        "n: 270    (2, array([ 1.97905759,  1.9947644 ,  1.97382199,  1.9947644 ]))"
       ]
      },
      {
       "output_type": "stream",
       "stream": "stdout",
       "text": [
        "\n",
        "n: 280    (2, array([ 1.97905759,  1.9947644 ,  1.97382199,  1.9947644 ]))"
       ]
      },
      {
       "output_type": "stream",
       "stream": "stdout",
       "text": [
        "\n",
        "n: 290    (2, array([ 1.97905759,  1.9947644 ,  1.97382199,  1.9947644 ]))"
       ]
      },
      {
       "output_type": "stream",
       "stream": "stdout",
       "text": [
        "\n",
        "n: 300    (2, array([ 1.97905759,  1.9947644 ,  1.97382199,  1.9947644 ]))"
       ]
      },
      {
       "output_type": "stream",
       "stream": "stdout",
       "text": [
        "\n",
        "n: 310    (2, array([ 1.97905759,  1.9947644 ,  1.97382199,  1.9947644 ]))"
       ]
      },
      {
       "output_type": "stream",
       "stream": "stdout",
       "text": [
        "\n",
        "n: 320    (2, array([ 1.97905759,  1.9947644 ,  1.97382199,  1.9947644 ]))"
       ]
      },
      {
       "output_type": "stream",
       "stream": "stdout",
       "text": [
        "\n",
        "n: 330    (2, array([ 1.97905759,  1.9947644 ,  1.97382199,  1.9947644 ]))"
       ]
      },
      {
       "output_type": "stream",
       "stream": "stdout",
       "text": [
        "\n",
        "n: 340    (2, array([ 1.97905759,  1.9947644 ,  1.97382199,  1.9947644 ]))"
       ]
      },
      {
       "output_type": "stream",
       "stream": "stdout",
       "text": [
        "\n",
        "n: 350    (2, array([ 1.97905759,  1.9947644 ,  1.97382199,  1.9947644 ]))"
       ]
      },
      {
       "output_type": "stream",
       "stream": "stdout",
       "text": [
        "\n",
        "n: 360    (2, array([ 1.97905759,  1.9947644 ,  1.97382199,  1.9947644 ]))"
       ]
      },
      {
       "output_type": "stream",
       "stream": "stdout",
       "text": [
        "\n",
        "n: 370    (2, array([ 1.97905759,  1.9947644 ,  1.97382199,  1.9947644 ]))"
       ]
      },
      {
       "output_type": "stream",
       "stream": "stdout",
       "text": [
        "\n",
        "n: 380    (2, array([ 1.97905759,  1.9947644 ,  1.97382199,  1.9947644 ]))"
       ]
      },
      {
       "output_type": "stream",
       "stream": "stdout",
       "text": [
        "\n",
        "n: 390    (2, array([ 1.97905759,  1.9947644 ,  1.97382199,  1.9947644 ]))"
       ]
      },
      {
       "output_type": "stream",
       "stream": "stdout",
       "text": [
        "\n",
        "n: 400    (2, array([ 1.97905759,  1.9947644 ,  1.97382199,  1.9947644 ]))"
       ]
      },
      {
       "output_type": "stream",
       "stream": "stdout",
       "text": [
        "\n",
        "n: 410    (2, array([ 1.97905759,  1.9947644 ,  1.97382199,  1.9947644 ]))"
       ]
      },
      {
       "output_type": "stream",
       "stream": "stdout",
       "text": [
        "\n",
        "n: 420    (2, array([ 1.97905759,  1.9947644 ,  1.97382199,  1.9947644 ]))"
       ]
      },
      {
       "output_type": "stream",
       "stream": "stdout",
       "text": [
        "\n",
        "n: 430    (2, array([ 1.97905759,  1.9947644 ,  1.97382199,  1.9947644 ]))"
       ]
      },
      {
       "output_type": "stream",
       "stream": "stdout",
       "text": [
        "\n",
        "n: 440    (2, array([ 1.97905759,  1.9947644 ,  1.97382199,  1.9947644 ]))"
       ]
      },
      {
       "output_type": "stream",
       "stream": "stdout",
       "text": [
        "\n",
        "n: 450    (2, array([ 1.97905759,  1.9947644 ,  1.97382199,  1.9947644 ]))"
       ]
      },
      {
       "output_type": "stream",
       "stream": "stdout",
       "text": [
        "\n",
        "n: 460    (2, array([ 1.97905759,  1.9947644 ,  1.97382199,  1.9947644 ]))"
       ]
      },
      {
       "output_type": "stream",
       "stream": "stdout",
       "text": [
        "\n",
        "n: 470    (2, array([ 1.97905759,  1.9947644 ,  1.97382199,  1.9947644 ]))"
       ]
      },
      {
       "output_type": "stream",
       "stream": "stdout",
       "text": [
        "\n",
        "n: 480    (2, array([ 1.97905759,  1.9947644 ,  1.97382199,  1.9947644 ]))"
       ]
      },
      {
       "output_type": "stream",
       "stream": "stdout",
       "text": [
        "\n",
        "n: 490    (2, array([ 1.97905759,  1.9947644 ,  1.97382199,  1.9947644 ]))"
       ]
      },
      {
       "output_type": "stream",
       "stream": "stdout",
       "text": [
        "\n",
        "CPU times: user 19min 33s, sys: 39.5 s, total: 20min 13s"
       ]
      },
      {
       "output_type": "stream",
       "stream": "stdout",
       "text": [
        "\n",
        "Wall time: 20min 8s\n"
       ]
      }
     ],
     "prompt_number": 7
    }
   ],
   "metadata": {}
  }
 ]
}